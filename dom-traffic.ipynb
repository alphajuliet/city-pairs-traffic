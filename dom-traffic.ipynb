{
 "cells": [
  {
   "cell_type": "markdown",
   "metadata": {},
   "source": [
    "# City Pairs: Domestic Traffic\n",
    "\n",
    "AndrewJ, 2020-04-05"
   ]
  },
  {
   "cell_type": "markdown",
   "metadata": {},
   "source": [
    "## Description\n",
    "\n",
    "Visualisation sandbox on some random data sets using Python3. In this case, it's Australian [monthly airport domestic traffic data](https://data.gov.au/dataset/domestic-airlines-top-routes-and-totals) via data.gov.au."
   ]
  },
  {
   "cell_type": "code",
   "execution_count": 74,
   "metadata": {},
   "outputs": [],
   "source": [
    "%matplotlib inline\n",
    "\n",
    "import numpy as np\n",
    "import pandas as pd\n",
    "import datetime as dt\n",
    "import altair as alt"
   ]
  },
  {
   "cell_type": "markdown",
   "metadata": {},
   "source": [
    "## Read and process the data"
   ]
  },
  {
   "cell_type": "code",
   "execution_count": 2,
   "metadata": {},
   "outputs": [],
   "source": [
    "def read_traffic():\n",
    "    return pd.read_csv(\"data/audomcitypairs-201912.csv\")"
   ]
  },
  {
   "cell_type": "code",
   "execution_count": 3,
   "metadata": {},
   "outputs": [],
   "source": [
    "def transform_traffic(df):\n",
    "    df1 = df.assign(\n",
    "        Journey = df.City1 + \"-\" + df.City2, \n",
    "        Month = dt.datetime(1899, 12, 30) + df['Month'].map(dt.timedelta))\n",
    "    return df1"
   ]
  },
  {
   "cell_type": "markdown",
   "metadata": {},
   "source": [
    "## Run"
   ]
  },
  {
   "cell_type": "code",
   "execution_count": 4,
   "metadata": {
    "scrolled": true
   },
   "outputs": [],
   "source": [
    "dom = transform_traffic(read_traffic())"
   ]
  },
  {
   "cell_type": "code",
   "execution_count": 40,
   "metadata": {},
   "outputs": [
    {
     "data": {
      "text/html": [
       "<div>\n",
       "<style scoped>\n",
       "    .dataframe tbody tr th:only-of-type {\n",
       "        vertical-align: middle;\n",
       "    }\n",
       "\n",
       "    .dataframe tbody tr th {\n",
       "        vertical-align: top;\n",
       "    }\n",
       "\n",
       "    .dataframe thead th {\n",
       "        text-align: right;\n",
       "    }\n",
       "</style>\n",
       "<table border=\"1\" class=\"dataframe\">\n",
       "  <thead>\n",
       "    <tr style=\"text-align: right;\">\n",
       "      <th></th>\n",
       "      <th>City1</th>\n",
       "      <th>City2</th>\n",
       "      <th>Month</th>\n",
       "      <th>Passenger_Trips</th>\n",
       "      <th>Aircraft_Trips</th>\n",
       "      <th>Passenger_Load_Factor</th>\n",
       "      <th>Distance_GC_(km)</th>\n",
       "      <th>RPKs</th>\n",
       "      <th>ASKs</th>\n",
       "      <th>Seats</th>\n",
       "      <th>Year</th>\n",
       "      <th>Month_num</th>\n",
       "      <th>Journey</th>\n",
       "    </tr>\n",
       "  </thead>\n",
       "  <tbody>\n",
       "    <tr>\n",
       "      <th>0</th>\n",
       "      <td>ADELAIDE</td>\n",
       "      <td>ALICE SPRINGS</td>\n",
       "      <td>1984-01-01</td>\n",
       "      <td>15743</td>\n",
       "      <td>143</td>\n",
       "      <td>81.8</td>\n",
       "      <td>1316</td>\n",
       "      <td>20717788</td>\n",
       "      <td>25327369</td>\n",
       "      <td>19246</td>\n",
       "      <td>1984</td>\n",
       "      <td>1</td>\n",
       "      <td>ADELAIDE-ALICE SPRINGS</td>\n",
       "    </tr>\n",
       "    <tr>\n",
       "      <th>1</th>\n",
       "      <td>ADELAIDE</td>\n",
       "      <td>BRISBANE</td>\n",
       "      <td>1984-01-01</td>\n",
       "      <td>3781</td>\n",
       "      <td>32</td>\n",
       "      <td>89.8</td>\n",
       "      <td>1622</td>\n",
       "      <td>6132782</td>\n",
       "      <td>6829379</td>\n",
       "      <td>4210</td>\n",
       "      <td>1984</td>\n",
       "      <td>1</td>\n",
       "      <td>ADELAIDE-BRISBANE</td>\n",
       "    </tr>\n",
       "    <tr>\n",
       "      <th>2</th>\n",
       "      <td>ADELAIDE</td>\n",
       "      <td>CANBERRA</td>\n",
       "      <td>1984-01-01</td>\n",
       "      <td>1339</td>\n",
       "      <td>12</td>\n",
       "      <td>94.7</td>\n",
       "      <td>972</td>\n",
       "      <td>1301508</td>\n",
       "      <td>1374348</td>\n",
       "      <td>1414</td>\n",
       "      <td>1984</td>\n",
       "      <td>1</td>\n",
       "      <td>ADELAIDE-CANBERRA</td>\n",
       "    </tr>\n",
       "    <tr>\n",
       "      <th>3</th>\n",
       "      <td>ADELAIDE</td>\n",
       "      <td>DARWIN</td>\n",
       "      <td>1984-01-01</td>\n",
       "      <td>3050</td>\n",
       "      <td>33</td>\n",
       "      <td>66.8</td>\n",
       "      <td>2619</td>\n",
       "      <td>7987950</td>\n",
       "      <td>11958009</td>\n",
       "      <td>4566</td>\n",
       "      <td>1984</td>\n",
       "      <td>1</td>\n",
       "      <td>ADELAIDE-DARWIN</td>\n",
       "    </tr>\n",
       "    <tr>\n",
       "      <th>4</th>\n",
       "      <td>ADELAIDE</td>\n",
       "      <td>GOLD COAST</td>\n",
       "      <td>1984-01-01</td>\n",
       "      <td>1596</td>\n",
       "      <td>16</td>\n",
       "      <td>88.5</td>\n",
       "      <td>1607</td>\n",
       "      <td>2564772</td>\n",
       "      <td>2898047</td>\n",
       "      <td>1803</td>\n",
       "      <td>1984</td>\n",
       "      <td>1</td>\n",
       "      <td>ADELAIDE-GOLD COAST</td>\n",
       "    </tr>\n",
       "  </tbody>\n",
       "</table>\n",
       "</div>"
      ],
      "text/plain": [
       "      City1          City2      Month  Passenger_Trips  Aircraft_Trips  \\\n",
       "0  ADELAIDE  ALICE SPRINGS 1984-01-01            15743             143   \n",
       "1  ADELAIDE       BRISBANE 1984-01-01             3781              32   \n",
       "2  ADELAIDE       CANBERRA 1984-01-01             1339              12   \n",
       "3  ADELAIDE         DARWIN 1984-01-01             3050              33   \n",
       "4  ADELAIDE     GOLD COAST 1984-01-01             1596              16   \n",
       "\n",
       "   Passenger_Load_Factor  Distance_GC_(km)      RPKs      ASKs  Seats  Year  \\\n",
       "0                   81.8              1316  20717788  25327369  19246  1984   \n",
       "1                   89.8              1622   6132782   6829379   4210  1984   \n",
       "2                   94.7               972   1301508   1374348   1414  1984   \n",
       "3                   66.8              2619   7987950  11958009   4566  1984   \n",
       "4                   88.5              1607   2564772   2898047   1803  1984   \n",
       "\n",
       "   Month_num                 Journey  \n",
       "0          1  ADELAIDE-ALICE SPRINGS  \n",
       "1          1       ADELAIDE-BRISBANE  \n",
       "2          1       ADELAIDE-CANBERRA  \n",
       "3          1         ADELAIDE-DARWIN  \n",
       "4          1     ADELAIDE-GOLD COAST  "
      ]
     },
     "execution_count": 40,
     "metadata": {},
     "output_type": "execute_result"
    }
   ],
   "source": [
    "dom.head()"
   ]
  },
  {
   "cell_type": "code",
   "execution_count": 6,
   "metadata": {},
   "outputs": [
    {
     "data": {
      "text/plain": [
       "City1                            object\n",
       "City2                            object\n",
       "Month                    datetime64[ns]\n",
       "Passenger_Trips                   int64\n",
       "Aircraft_Trips                    int64\n",
       "Passenger_Load_Factor           float64\n",
       "Distance_GC_(km)                  int64\n",
       "RPKs                              int64\n",
       "ASKs                              int64\n",
       "Seats                             int64\n",
       "Year                              int64\n",
       "Month_num                         int64\n",
       "Journey                          object\n",
       "dtype: object"
      ]
     },
     "execution_count": 6,
     "metadata": {},
     "output_type": "execute_result"
    }
   ],
   "source": [
    "dom.dtypes"
   ]
  },
  {
   "cell_type": "markdown",
   "metadata": {},
   "source": [
    "## Visualise"
   ]
  },
  {
   "cell_type": "markdown",
   "metadata": {},
   "source": [
    "Top sectors by total passengers"
   ]
  },
  {
   "cell_type": "code",
   "execution_count": 42,
   "metadata": {},
   "outputs": [
    {
     "data": {
      "text/html": [
       "<div>\n",
       "<style scoped>\n",
       "    .dataframe tbody tr th:only-of-type {\n",
       "        vertical-align: middle;\n",
       "    }\n",
       "\n",
       "    .dataframe tbody tr th {\n",
       "        vertical-align: top;\n",
       "    }\n",
       "\n",
       "    .dataframe thead th {\n",
       "        text-align: right;\n",
       "    }\n",
       "</style>\n",
       "<table border=\"1\" class=\"dataframe\">\n",
       "  <thead>\n",
       "    <tr style=\"text-align: right;\">\n",
       "      <th></th>\n",
       "      <th>Journey</th>\n",
       "      <th>Passenger_Trips</th>\n",
       "    </tr>\n",
       "  </thead>\n",
       "  <tbody>\n",
       "    <tr>\n",
       "      <th>0</th>\n",
       "      <td>MELBOURNE-SYDNEY</td>\n",
       "      <td>468167.187500</td>\n",
       "    </tr>\n",
       "    <tr>\n",
       "      <th>1</th>\n",
       "      <td>BRISBANE-SYDNEY</td>\n",
       "      <td>278187.972222</td>\n",
       "    </tr>\n",
       "    <tr>\n",
       "      <th>2</th>\n",
       "      <td>BRISBANE-MELBOURNE</td>\n",
       "      <td>167081.564815</td>\n",
       "    </tr>\n",
       "    <tr>\n",
       "      <th>3</th>\n",
       "      <td>GOLD COAST-SYDNEY</td>\n",
       "      <td>132675.391204</td>\n",
       "    </tr>\n",
       "    <tr>\n",
       "      <th>4</th>\n",
       "      <td>ADELAIDE-MELBOURNE</td>\n",
       "      <td>130473.773148</td>\n",
       "    </tr>\n",
       "  </tbody>\n",
       "</table>\n",
       "</div>"
      ],
      "text/plain": [
       "              Journey  Passenger_Trips\n",
       "0    MELBOURNE-SYDNEY    468167.187500\n",
       "1     BRISBANE-SYDNEY    278187.972222\n",
       "2  BRISBANE-MELBOURNE    167081.564815\n",
       "3   GOLD COAST-SYDNEY    132675.391204\n",
       "4  ADELAIDE-MELBOURNE    130473.773148"
      ]
     },
     "execution_count": 42,
     "metadata": {},
     "output_type": "execute_result"
    }
   ],
   "source": [
    "trips = dom['Passenger_Trips'] \\\n",
    "    .groupby(dom['Journey']) \\\n",
    "    .mean() \\\n",
    "    .sort_values(ascending = False) \\\n",
    "    .reset_index()\n",
    "\n",
    "trips.head(5)"
   ]
  },
  {
   "cell_type": "code",
   "execution_count": 70,
   "metadata": {},
   "outputs": [
    {
     "data": {
      "text/html": [
       "\n",
       "<div id=\"altair-viz-b4aebc5f625f4f6c8b52118dc18cbf54\"></div>\n",
       "<script type=\"text/javascript\">\n",
       "  (function(spec, embedOpt){\n",
       "    const outputDiv = document.getElementById(\"altair-viz-b4aebc5f625f4f6c8b52118dc18cbf54\");\n",
       "    const paths = {\n",
       "      \"vega\": \"https://cdn.jsdelivr.net/npm//vega@5?noext\",\n",
       "      \"vega-lib\": \"https://cdn.jsdelivr.net/npm//vega-lib?noext\",\n",
       "      \"vega-lite\": \"https://cdn.jsdelivr.net/npm//vega-lite@4.0.2?noext\",\n",
       "      \"vega-embed\": \"https://cdn.jsdelivr.net/npm//vega-embed@6?noext\",\n",
       "    };\n",
       "\n",
       "    function loadScript(lib) {\n",
       "      return new Promise(function(resolve, reject) {\n",
       "        var s = document.createElement('script');\n",
       "        s.src = paths[lib];\n",
       "        s.async = true;\n",
       "        s.onload = () => resolve(paths[lib]);\n",
       "        s.onerror = () => reject(`Error loading script: ${paths[lib]}`);\n",
       "        document.getElementsByTagName(\"head\")[0].appendChild(s);\n",
       "      });\n",
       "    }\n",
       "\n",
       "    function showError(err) {\n",
       "      outputDiv.innerHTML = `<div class=\"error\" style=\"color:red;\">${err}</div>`;\n",
       "      throw err;\n",
       "    }\n",
       "\n",
       "    function displayChart(vegaEmbed) {\n",
       "      vegaEmbed(outputDiv, spec, embedOpt)\n",
       "        .catch(err => showError(`Javascript Error: ${err.message}<br>This usually means there's a typo in your chart specification. See the javascript console for the full traceback.`));\n",
       "    }\n",
       "\n",
       "    if(typeof define === \"function\" && define.amd) {\n",
       "      requirejs.config({paths});\n",
       "      require([\"vega-embed\"], displayChart, err => showError(`Error loading script: ${err.message}`));\n",
       "    } else if (typeof vegaEmbed === \"function\") {\n",
       "      displayChart(vegaEmbed);\n",
       "    } else {\n",
       "      loadScript(\"vega\")\n",
       "        .then(() => loadScript(\"vega-lite\"))\n",
       "        .then(() => loadScript(\"vega-embed\"))\n",
       "        .catch(showError)\n",
       "        .then(() => displayChart(vegaEmbed));\n",
       "    }\n",
       "  })({\"config\": {\"view\": {\"continuousWidth\": 400, \"continuousHeight\": 300}}, \"layer\": [{\"mark\": {\"type\": \"bar\", \"size\": 15}, \"encoding\": {\"x\": {\"type\": \"quantitative\", \"field\": \"Passenger_Trips\", \"scale\": {\"domain\": [0, 550000]}}, \"y\": {\"type\": \"ordinal\", \"field\": \"Journey\", \"sort\": \"-x\"}}}, {\"mark\": {\"type\": \"text\", \"dx\": 25}, \"encoding\": {\"text\": {\"type\": \"quantitative\", \"field\": \"Passenger_Trips\", \"format\": \".0d\"}, \"x\": {\"type\": \"quantitative\", \"field\": \"Passenger_Trips\", \"scale\": {\"domain\": [0, 550000]}}, \"y\": {\"type\": \"ordinal\", \"field\": \"Journey\", \"sort\": \"-x\"}}}], \"data\": {\"name\": \"data-848f35d9397cc9dd64a797561dc675e1\"}, \"height\": 350, \"width\": 500, \"$schema\": \"https://vega.github.io/schema/vega-lite/v4.0.2.json\", \"datasets\": {\"data-848f35d9397cc9dd64a797561dc675e1\": [{\"Journey\": \"MELBOURNE-SYDNEY\", \"Passenger_Trips\": 468167.1875}, {\"Journey\": \"BRISBANE-SYDNEY\", \"Passenger_Trips\": 278187.97222222225}, {\"Journey\": \"BRISBANE-MELBOURNE\", \"Passenger_Trips\": 167081.5648148148}, {\"Journey\": \"GOLD COAST-SYDNEY\", \"Passenger_Trips\": 132675.3912037037}, {\"Journey\": \"ADELAIDE-MELBOURNE\", \"Passenger_Trips\": 130473.77314814815}, {\"Journey\": \"ADELAIDE-SYDNEY\", \"Passenger_Trips\": 100881.30787037036}, {\"Journey\": \"MELBOURNE-PERTH\", \"Passenger_Trips\": 99530.91435185185}, {\"Journey\": \"PERTH-SYDNEY\", \"Passenger_Trips\": 87092.05092592593}, {\"Journey\": \"MELBOURNE-GOLD COAST\", \"Passenger_Trips\": 81255.46976744186}, {\"Journey\": \"HOBART-MELBOURNE\", \"Passenger_Trips\": 74651.83101851853}, {\"Journey\": \"BRISBANE-CAIRNS\", \"Passenger_Trips\": 73798.24305555556}, {\"Journey\": \"CANBERRA-SYDNEY\", \"Passenger_Trips\": 68099.12962962964}, {\"Journey\": \"CANBERRA-MELBOURNE\", \"Passenger_Trips\": 64348.273148148146}, {\"Journey\": \"CAIRNS-SYDNEY\", \"Passenger_Trips\": 55478.21028037383}, {\"Journey\": \"BRISBANE-TOWNSVILLE\", \"Passenger_Trips\": 54622.20138888889}]}}, {\"mode\": \"vega-lite\"});\n",
       "</script>"
      ],
      "text/plain": [
       "alt.LayerChart(...)"
      ]
     },
     "execution_count": 70,
     "metadata": {},
     "output_type": "execute_result"
    }
   ],
   "source": [
    "bars = alt.Chart(trips.head(15)) \\\n",
    "    .mark_bar(size = 15) \\\n",
    "    .encode(\n",
    "        x = alt.X(\n",
    "            'Passenger_Trips:Q',\n",
    "            scale = alt.Scale(domain = [0, 550000])),\n",
    "        y = alt.Y(\n",
    "            'Journey:O', \n",
    "            sort = '-x'))\n",
    "\n",
    "labels = bars \\\n",
    "    .mark_text(dx = 25) \\\n",
    "    .encode(\n",
    "        text = alt.Text(\n",
    "            'Passenger_Trips:Q', \n",
    "            format = \".0d\"))\n",
    "\n",
    "(bars+labels).properties(\n",
    "        width = 500, \n",
    "        height = 350)"
   ]
  },
  {
   "cell_type": "markdown",
   "metadata": {},
   "source": [
    "Time series of monthly passenger numbers."
   ]
  },
  {
   "cell_type": "code",
   "execution_count": 25,
   "metadata": {},
   "outputs": [],
   "source": [
    "trips_months = dom.groupby(['Month'])[['Passenger_Trips']].sum().reset_index()"
   ]
  },
  {
   "cell_type": "code",
   "execution_count": 73,
   "metadata": {},
   "outputs": [
    {
     "data": {
      "text/html": [
       "\n",
       "<div id=\"altair-viz-aba9a69cba3a4687ac16586b4bcd5934\"></div>\n",
       "<script type=\"text/javascript\">\n",
       "  (function(spec, embedOpt){\n",
       "    const outputDiv = document.getElementById(\"altair-viz-aba9a69cba3a4687ac16586b4bcd5934\");\n",
       "    const paths = {\n",
       "      \"vega\": \"https://cdn.jsdelivr.net/npm//vega@5?noext\",\n",
       "      \"vega-lib\": \"https://cdn.jsdelivr.net/npm//vega-lib?noext\",\n",
       "      \"vega-lite\": \"https://cdn.jsdelivr.net/npm//vega-lite@4.0.2?noext\",\n",
       "      \"vega-embed\": \"https://cdn.jsdelivr.net/npm//vega-embed@6?noext\",\n",
       "    };\n",
       "\n",
       "    function loadScript(lib) {\n",
       "      return new Promise(function(resolve, reject) {\n",
       "        var s = document.createElement('script');\n",
       "        s.src = paths[lib];\n",
       "        s.async = true;\n",
       "        s.onload = () => resolve(paths[lib]);\n",
       "        s.onerror = () => reject(`Error loading script: ${paths[lib]}`);\n",
       "        document.getElementsByTagName(\"head\")[0].appendChild(s);\n",
       "      });\n",
       "    }\n",
       "\n",
       "    function showError(err) {\n",
       "      outputDiv.innerHTML = `<div class=\"error\" style=\"color:red;\">${err}</div>`;\n",
       "      throw err;\n",
       "    }\n",
       "\n",
       "    function displayChart(vegaEmbed) {\n",
       "      vegaEmbed(outputDiv, spec, embedOpt)\n",
       "        .catch(err => showError(`Javascript Error: ${err.message}<br>This usually means there's a typo in your chart specification. See the javascript console for the full traceback.`));\n",
       "    }\n",
       "\n",
       "    if(typeof define === \"function\" && define.amd) {\n",
       "      requirejs.config({paths});\n",
       "      require([\"vega-embed\"], displayChart, err => showError(`Error loading script: ${err.message}`));\n",
       "    } else if (typeof vegaEmbed === \"function\") {\n",
       "      displayChart(vegaEmbed);\n",
       "    } else {\n",
       "      loadScript(\"vega\")\n",
       "        .then(() => loadScript(\"vega-lite\"))\n",
       "        .then(() => loadScript(\"vega-embed\"))\n",
       "        .catch(showError)\n",
       "        .then(() => displayChart(vegaEmbed));\n",
       "    }\n",
       "  })({\"config\": {\"view\": {\"continuousWidth\": 400, \"continuousHeight\": 300}}, \"data\": {\"name\": \"data-d59fb5057bfbe2d4692b1e85e0e26acc\"}, \"mark\": {\"type\": \"line\", \"color\": \"green\"}, \"encoding\": {\"x\": {\"type\": \"temporal\", \"field\": \"Month\"}, \"y\": {\"type\": \"quantitative\", \"field\": \"Passenger_Trips\"}}, \"height\": 250, \"width\": 400, \"$schema\": \"https://vega.github.io/schema/vega-lite/v4.0.2.json\", \"datasets\": {\"data-d59fb5057bfbe2d4692b1e85e0e26acc\": [{\"Month\": \"1984-01-01T00:00:00\", \"Passenger_Trips\": 800530}, {\"Month\": \"1984-02-01T00:00:00\", \"Passenger_Trips\": 660289}, {\"Month\": \"1984-03-01T00:00:00\", \"Passenger_Trips\": 739785}, {\"Month\": \"1984-04-01T00:00:00\", \"Passenger_Trips\": 770776}, {\"Month\": \"1984-05-01T00:00:00\", \"Passenger_Trips\": 813317}, {\"Month\": \"1984-06-01T00:00:00\", \"Passenger_Trips\": 700510}, {\"Month\": \"1984-07-01T00:00:00\", \"Passenger_Trips\": 750017}, {\"Month\": \"1984-08-01T00:00:00\", \"Passenger_Trips\": 846116}, {\"Month\": \"1984-09-01T00:00:00\", \"Passenger_Trips\": 833663}, {\"Month\": \"1984-10-01T00:00:00\", \"Passenger_Trips\": 813811}, {\"Month\": \"1984-11-01T00:00:00\", \"Passenger_Trips\": 781105}, {\"Month\": \"1984-12-01T00:00:00\", \"Passenger_Trips\": 755213}, {\"Month\": \"1985-01-01T00:00:00\", \"Passenger_Trips\": 846782}, {\"Month\": \"1985-02-01T00:00:00\", \"Passenger_Trips\": 676200}, {\"Month\": \"1985-03-01T00:00:00\", \"Passenger_Trips\": 801153}, {\"Month\": \"1985-04-01T00:00:00\", \"Passenger_Trips\": 806329}, {\"Month\": \"1985-05-01T00:00:00\", \"Passenger_Trips\": 896071}, {\"Month\": \"1985-06-01T00:00:00\", \"Passenger_Trips\": 774901}, {\"Month\": \"1985-07-01T00:00:00\", \"Passenger_Trips\": 741307}, {\"Month\": \"1985-08-01T00:00:00\", \"Passenger_Trips\": 906692}, {\"Month\": \"1985-09-01T00:00:00\", \"Passenger_Trips\": 917495}, {\"Month\": \"1985-10-01T00:00:00\", \"Passenger_Trips\": 890689}, {\"Month\": \"1985-11-01T00:00:00\", \"Passenger_Trips\": 866703}, {\"Month\": \"1985-12-01T00:00:00\", \"Passenger_Trips\": 860910}, {\"Month\": \"1986-01-01T00:00:00\", \"Passenger_Trips\": 898331}, {\"Month\": \"1986-02-01T00:00:00\", \"Passenger_Trips\": 775069}, {\"Month\": \"1986-03-01T00:00:00\", \"Passenger_Trips\": 877214}, {\"Month\": \"1986-04-01T00:00:00\", \"Passenger_Trips\": 865588}, {\"Month\": \"1986-05-01T00:00:00\", \"Passenger_Trips\": 920216}, {\"Month\": \"1986-06-01T00:00:00\", \"Passenger_Trips\": 812891}, {\"Month\": \"1986-07-01T00:00:00\", \"Passenger_Trips\": 836216}, {\"Month\": \"1986-08-01T00:00:00\", \"Passenger_Trips\": 962274}, {\"Month\": \"1986-09-01T00:00:00\", \"Passenger_Trips\": 935442}, {\"Month\": \"1986-10-01T00:00:00\", \"Passenger_Trips\": 963163}, {\"Month\": \"1986-11-01T00:00:00\", \"Passenger_Trips\": 886425}, {\"Month\": \"1986-12-01T00:00:00\", \"Passenger_Trips\": 901452}, {\"Month\": \"1987-01-01T00:00:00\", \"Passenger_Trips\": 951451}, {\"Month\": \"1987-02-01T00:00:00\", \"Passenger_Trips\": 831790}, {\"Month\": \"1987-03-01T00:00:00\", \"Passenger_Trips\": 904392}, {\"Month\": \"1987-04-01T00:00:00\", \"Passenger_Trips\": 954868}, {\"Month\": \"1987-05-01T00:00:00\", \"Passenger_Trips\": 880766}, {\"Month\": \"1987-06-01T00:00:00\", \"Passenger_Trips\": 857771}, {\"Month\": \"1987-07-01T00:00:00\", \"Passenger_Trips\": 1011050}, {\"Month\": \"1987-08-01T00:00:00\", \"Passenger_Trips\": 961900}, {\"Month\": \"1987-09-01T00:00:00\", \"Passenger_Trips\": 1019503}, {\"Month\": \"1987-10-01T00:00:00\", \"Passenger_Trips\": 1083405}, {\"Month\": \"1987-11-01T00:00:00\", \"Passenger_Trips\": 993161}, {\"Month\": \"1987-12-01T00:00:00\", \"Passenger_Trips\": 972853}, {\"Month\": \"1988-01-01T00:00:00\", \"Passenger_Trips\": 1009945}, {\"Month\": \"1988-02-01T00:00:00\", \"Passenger_Trips\": 918288}, {\"Month\": \"1988-03-01T00:00:00\", \"Passenger_Trips\": 1029726}, {\"Month\": \"1988-04-01T00:00:00\", \"Passenger_Trips\": 985031}, {\"Month\": \"1988-05-01T00:00:00\", \"Passenger_Trips\": 1031856}, {\"Month\": \"1988-06-01T00:00:00\", \"Passenger_Trips\": 1020620}, {\"Month\": \"1988-07-01T00:00:00\", \"Passenger_Trips\": 1178167}, {\"Month\": \"1988-08-01T00:00:00\", \"Passenger_Trips\": 1141759}, {\"Month\": \"1988-09-01T00:00:00\", \"Passenger_Trips\": 1228797}, {\"Month\": \"1988-10-01T00:00:00\", \"Passenger_Trips\": 1173951}, {\"Month\": \"1988-11-01T00:00:00\", \"Passenger_Trips\": 1042796}, {\"Month\": \"1988-12-01T00:00:00\", \"Passenger_Trips\": 1017651}, {\"Month\": \"1989-01-01T00:00:00\", \"Passenger_Trips\": 998373}, {\"Month\": \"1989-02-01T00:00:00\", \"Passenger_Trips\": 889480}, {\"Month\": \"1989-03-01T00:00:00\", \"Passenger_Trips\": 1074444}, {\"Month\": \"1989-04-01T00:00:00\", \"Passenger_Trips\": 962983}, {\"Month\": \"1989-05-01T00:00:00\", \"Passenger_Trips\": 942716}, {\"Month\": \"1989-06-01T00:00:00\", \"Passenger_Trips\": 973920}, {\"Month\": \"1989-07-01T00:00:00\", \"Passenger_Trips\": 1066247}, {\"Month\": \"1989-08-01T00:00:00\", \"Passenger_Trips\": 681430}, {\"Month\": \"1989-09-01T00:00:00\", \"Passenger_Trips\": 250302}, {\"Month\": \"1989-10-01T00:00:00\", \"Passenger_Trips\": 459960}, {\"Month\": \"1989-11-01T00:00:00\", \"Passenger_Trips\": 613608}, {\"Month\": \"1989-12-01T00:00:00\", \"Passenger_Trips\": 766342}, {\"Month\": \"1990-01-01T00:00:00\", \"Passenger_Trips\": 904252}, {\"Month\": \"1990-02-01T00:00:00\", \"Passenger_Trips\": 826783}, {\"Month\": \"1990-03-01T00:00:00\", \"Passenger_Trips\": 959642}, {\"Month\": \"1990-04-01T00:00:00\", \"Passenger_Trips\": 1010471}, {\"Month\": \"1990-05-01T00:00:00\", \"Passenger_Trips\": 938272}, {\"Month\": \"1990-06-01T00:00:00\", \"Passenger_Trips\": 935633}, {\"Month\": \"1990-07-01T00:00:00\", \"Passenger_Trips\": 1082447}, {\"Month\": \"1990-08-01T00:00:00\", \"Passenger_Trips\": 1038102}, {\"Month\": \"1990-09-01T00:00:00\", \"Passenger_Trips\": 1092689}, {\"Month\": \"1990-10-01T00:00:00\", \"Passenger_Trips\": 1164308}, {\"Month\": \"1990-11-01T00:00:00\", \"Passenger_Trips\": 1098689}, {\"Month\": \"1990-12-01T00:00:00\", \"Passenger_Trips\": 1144771}, {\"Month\": \"1991-01-01T00:00:00\", \"Passenger_Trips\": 1215739}, {\"Month\": \"1991-02-01T00:00:00\", \"Passenger_Trips\": 974860}, {\"Month\": \"1991-03-01T00:00:00\", \"Passenger_Trips\": 1109300}, {\"Month\": \"1991-04-01T00:00:00\", \"Passenger_Trips\": 1164640}, {\"Month\": \"1991-05-01T00:00:00\", \"Passenger_Trips\": 1112564}, {\"Month\": \"1991-06-01T00:00:00\", \"Passenger_Trips\": 1172316}, {\"Month\": \"1991-07-01T00:00:00\", \"Passenger_Trips\": 1472669}, {\"Month\": \"1991-08-01T00:00:00\", \"Passenger_Trips\": 1437032}, {\"Month\": \"1991-09-01T00:00:00\", \"Passenger_Trips\": 1585944}, {\"Month\": \"1991-10-01T00:00:00\", \"Passenger_Trips\": 1645018}, {\"Month\": \"1991-11-01T00:00:00\", \"Passenger_Trips\": 1535853}, {\"Month\": \"1991-12-01T00:00:00\", \"Passenger_Trips\": 1558973}, {\"Month\": \"1992-01-01T00:00:00\", \"Passenger_Trips\": 1521217}, {\"Month\": \"1992-02-01T00:00:00\", \"Passenger_Trips\": 1231937}, {\"Month\": \"1992-03-01T00:00:00\", \"Passenger_Trips\": 1309197}, {\"Month\": \"1992-04-01T00:00:00\", \"Passenger_Trips\": 1364156}, {\"Month\": \"1992-05-01T00:00:00\", \"Passenger_Trips\": 1266900}, {\"Month\": \"1992-06-01T00:00:00\", \"Passenger_Trips\": 1251227}, {\"Month\": \"1992-07-01T00:00:00\", \"Passenger_Trips\": 1443885}, {\"Month\": \"1992-08-01T00:00:00\", \"Passenger_Trips\": 1352031}, {\"Month\": \"1992-09-01T00:00:00\", \"Passenger_Trips\": 1495945}, {\"Month\": \"1992-10-01T00:00:00\", \"Passenger_Trips\": 1561184}, {\"Month\": \"1992-11-01T00:00:00\", \"Passenger_Trips\": 1462568}, {\"Month\": \"1992-12-01T00:00:00\", \"Passenger_Trips\": 1491523}, {\"Month\": \"1993-01-01T00:00:00\", \"Passenger_Trips\": 1575346}, {\"Month\": \"1993-02-01T00:00:00\", \"Passenger_Trips\": 1322635}, {\"Month\": \"1993-03-01T00:00:00\", \"Passenger_Trips\": 1436976}, {\"Month\": \"1993-04-01T00:00:00\", \"Passenger_Trips\": 1509383}, {\"Month\": \"1993-05-01T00:00:00\", \"Passenger_Trips\": 1364228}, {\"Month\": \"1993-06-01T00:00:00\", \"Passenger_Trips\": 1375783}, {\"Month\": \"1993-07-01T00:00:00\", \"Passenger_Trips\": 1632945}, {\"Month\": \"1993-08-01T00:00:00\", \"Passenger_Trips\": 1611537}, {\"Month\": \"1993-09-01T00:00:00\", \"Passenger_Trips\": 1702584}, {\"Month\": \"1993-10-01T00:00:00\", \"Passenger_Trips\": 1762140}, {\"Month\": \"1993-11-01T00:00:00\", \"Passenger_Trips\": 1690164}, {\"Month\": \"1993-12-01T00:00:00\", \"Passenger_Trips\": 1705352}, {\"Month\": \"1994-01-01T00:00:00\", \"Passenger_Trips\": 1766216}, {\"Month\": \"1994-02-01T00:00:00\", \"Passenger_Trips\": 1576149}, {\"Month\": \"1994-03-01T00:00:00\", \"Passenger_Trips\": 1795828}, {\"Month\": \"1994-04-01T00:00:00\", \"Passenger_Trips\": 1718161}, {\"Month\": \"1994-05-01T00:00:00\", \"Passenger_Trips\": 1595094}, {\"Month\": \"1994-06-01T00:00:00\", \"Passenger_Trips\": 1668877}, {\"Month\": \"1994-07-01T00:00:00\", \"Passenger_Trips\": 1922002}, {\"Month\": \"1994-08-01T00:00:00\", \"Passenger_Trips\": 1843379}, {\"Month\": \"1994-09-01T00:00:00\", \"Passenger_Trips\": 1952910}, {\"Month\": \"1994-10-01T00:00:00\", \"Passenger_Trips\": 2036458}, {\"Month\": \"1994-11-01T00:00:00\", \"Passenger_Trips\": 1906205}, {\"Month\": \"1994-12-01T00:00:00\", \"Passenger_Trips\": 1884076}, {\"Month\": \"1995-01-01T00:00:00\", \"Passenger_Trips\": 2039365}, {\"Month\": \"1995-02-01T00:00:00\", \"Passenger_Trips\": 1750783}, {\"Month\": \"1995-03-01T00:00:00\", \"Passenger_Trips\": 1893132}, {\"Month\": \"1995-04-01T00:00:00\", \"Passenger_Trips\": 1923518}, {\"Month\": \"1995-05-01T00:00:00\", \"Passenger_Trips\": 1776954}, {\"Month\": \"1995-06-01T00:00:00\", \"Passenger_Trips\": 1826123}, {\"Month\": \"1995-07-01T00:00:00\", \"Passenger_Trips\": 2022279}, {\"Month\": \"1995-08-01T00:00:00\", \"Passenger_Trips\": 2045675}, {\"Month\": \"1995-09-01T00:00:00\", \"Passenger_Trips\": 2076005}, {\"Month\": \"1995-10-01T00:00:00\", \"Passenger_Trips\": 2128527}, {\"Month\": \"1995-11-01T00:00:00\", \"Passenger_Trips\": 2044680}, {\"Month\": \"1995-12-01T00:00:00\", \"Passenger_Trips\": 2031879}, {\"Month\": \"1996-01-01T00:00:00\", \"Passenger_Trips\": 2128622}, {\"Month\": \"1996-02-01T00:00:00\", \"Passenger_Trips\": 1882823}, {\"Month\": \"1996-03-01T00:00:00\", \"Passenger_Trips\": 2034072}, {\"Month\": \"1996-04-01T00:00:00\", \"Passenger_Trips\": 2045138}, {\"Month\": \"1996-05-01T00:00:00\", \"Passenger_Trips\": 1929619}, {\"Month\": \"1996-06-01T00:00:00\", \"Passenger_Trips\": 1951170}, {\"Month\": \"1996-07-01T00:00:00\", \"Passenger_Trips\": 2121358}, {\"Month\": \"1996-08-01T00:00:00\", \"Passenger_Trips\": 2080855}, {\"Month\": \"1996-09-01T00:00:00\", \"Passenger_Trips\": 2157237}, {\"Month\": \"1996-10-01T00:00:00\", \"Passenger_Trips\": 2225193}, {\"Month\": \"1996-11-01T00:00:00\", \"Passenger_Trips\": 2045028}, {\"Month\": \"1996-12-01T00:00:00\", \"Passenger_Trips\": 2100329}, {\"Month\": \"1997-01-01T00:00:00\", \"Passenger_Trips\": 2111865}, {\"Month\": \"1997-02-01T00:00:00\", \"Passenger_Trips\": 1881362}, {\"Month\": \"1997-03-01T00:00:00\", \"Passenger_Trips\": 2100487}, {\"Month\": \"1997-04-01T00:00:00\", \"Passenger_Trips\": 2045378}, {\"Month\": \"1997-05-01T00:00:00\", \"Passenger_Trips\": 1909797}, {\"Month\": \"1997-06-01T00:00:00\", \"Passenger_Trips\": 1927749}, {\"Month\": \"1997-07-01T00:00:00\", \"Passenger_Trips\": 2158561}, {\"Month\": \"1997-08-01T00:00:00\", \"Passenger_Trips\": 2159542}, {\"Month\": \"1997-09-01T00:00:00\", \"Passenger_Trips\": 2160921}, {\"Month\": \"1997-10-01T00:00:00\", \"Passenger_Trips\": 2288500}, {\"Month\": \"1997-11-01T00:00:00\", \"Passenger_Trips\": 2050561}, {\"Month\": \"1997-12-01T00:00:00\", \"Passenger_Trips\": 2046272}, {\"Month\": \"1998-01-01T00:00:00\", \"Passenger_Trips\": 2116872}, {\"Month\": \"1998-02-01T00:00:00\", \"Passenger_Trips\": 1857837}, {\"Month\": \"1998-03-01T00:00:00\", \"Passenger_Trips\": 2088967}, {\"Month\": \"1998-04-01T00:00:00\", \"Passenger_Trips\": 2077080}, {\"Month\": \"1998-05-01T00:00:00\", \"Passenger_Trips\": 1970491}, {\"Month\": \"1998-06-01T00:00:00\", \"Passenger_Trips\": 1992870}, {\"Month\": \"1998-07-01T00:00:00\", \"Passenger_Trips\": 2161000}, {\"Month\": \"1998-08-01T00:00:00\", \"Passenger_Trips\": 2111253}, {\"Month\": \"1998-09-01T00:00:00\", \"Passenger_Trips\": 2163932}, {\"Month\": \"1998-10-01T00:00:00\", \"Passenger_Trips\": 2293194}, {\"Month\": \"1998-11-01T00:00:00\", \"Passenger_Trips\": 2060018}, {\"Month\": \"1998-12-01T00:00:00\", \"Passenger_Trips\": 2090367}, {\"Month\": \"1999-01-01T00:00:00\", \"Passenger_Trips\": 2090298}, {\"Month\": \"1999-02-01T00:00:00\", \"Passenger_Trips\": 1871481}, {\"Month\": \"1999-03-01T00:00:00\", \"Passenger_Trips\": 2143374}, {\"Month\": \"1999-04-01T00:00:00\", \"Passenger_Trips\": 2085404}, {\"Month\": \"1999-05-01T00:00:00\", \"Passenger_Trips\": 2017009}, {\"Month\": \"1999-06-01T00:00:00\", \"Passenger_Trips\": 2077121}, {\"Month\": \"1999-07-01T00:00:00\", \"Passenger_Trips\": 2246008}, {\"Month\": \"1999-08-01T00:00:00\", \"Passenger_Trips\": 2226744}, {\"Month\": \"1999-09-01T00:00:00\", \"Passenger_Trips\": 2343127}, {\"Month\": \"1999-10-01T00:00:00\", \"Passenger_Trips\": 2413805}, {\"Month\": \"1999-11-01T00:00:00\", \"Passenger_Trips\": 2166288}, {\"Month\": \"1999-12-01T00:00:00\", \"Passenger_Trips\": 2146295}, {\"Month\": \"2000-01-01T00:00:00\", \"Passenger_Trips\": 2160635}, {\"Month\": \"2000-02-01T00:00:00\", \"Passenger_Trips\": 2044303}, {\"Month\": \"2000-03-01T00:00:00\", \"Passenger_Trips\": 2282132}, {\"Month\": \"2000-04-01T00:00:00\", \"Passenger_Trips\": 2230345}, {\"Month\": \"2000-05-01T00:00:00\", \"Passenger_Trips\": 2162880}, {\"Month\": \"2000-06-01T00:00:00\", \"Passenger_Trips\": 2251007}, {\"Month\": \"2000-07-01T00:00:00\", \"Passenger_Trips\": 2295158}, {\"Month\": \"2000-08-01T00:00:00\", \"Passenger_Trips\": 2390307}, {\"Month\": \"2000-09-01T00:00:00\", \"Passenger_Trips\": 2609843}, {\"Month\": \"2000-10-01T00:00:00\", \"Passenger_Trips\": 2565502}, {\"Month\": \"2000-11-01T00:00:00\", \"Passenger_Trips\": 2437059}, {\"Month\": \"2000-12-01T00:00:00\", \"Passenger_Trips\": 2490547}, {\"Month\": \"2001-01-01T00:00:00\", \"Passenger_Trips\": 2620014}, {\"Month\": \"2001-02-01T00:00:00\", \"Passenger_Trips\": 2133530}, {\"Month\": \"2001-03-01T00:00:00\", \"Passenger_Trips\": 2523583}, {\"Month\": \"2001-04-01T00:00:00\", \"Passenger_Trips\": 2605815}, {\"Month\": \"2001-05-01T00:00:00\", \"Passenger_Trips\": 2424368}, {\"Month\": \"2001-06-01T00:00:00\", \"Passenger_Trips\": 2414283}, {\"Month\": \"2001-07-01T00:00:00\", \"Passenger_Trips\": 2686238}, {\"Month\": \"2001-08-01T00:00:00\", \"Passenger_Trips\": 2546587}, {\"Month\": \"2001-09-01T00:00:00\", \"Passenger_Trips\": 2184721}, {\"Month\": \"2001-10-01T00:00:00\", \"Passenger_Trips\": 2113279}, {\"Month\": \"2001-11-01T00:00:00\", \"Passenger_Trips\": 2115446}, {\"Month\": \"2001-12-01T00:00:00\", \"Passenger_Trips\": 2217871}, {\"Month\": \"2002-01-01T00:00:00\", \"Passenger_Trips\": 2296297}, {\"Month\": \"2002-02-01T00:00:00\", \"Passenger_Trips\": 2084463}, {\"Month\": \"2002-03-01T00:00:00\", \"Passenger_Trips\": 2266352}, {\"Month\": \"2002-04-01T00:00:00\", \"Passenger_Trips\": 2140120}, {\"Month\": \"2002-05-01T00:00:00\", \"Passenger_Trips\": 2117729}, {\"Month\": \"2002-06-01T00:00:00\", \"Passenger_Trips\": 2049557}, {\"Month\": \"2002-07-01T00:00:00\", \"Passenger_Trips\": 2354540}, {\"Month\": \"2002-08-01T00:00:00\", \"Passenger_Trips\": 2297043}, {\"Month\": \"2002-09-01T00:00:00\", \"Passenger_Trips\": 2339315}, {\"Month\": \"2002-10-01T00:00:00\", \"Passenger_Trips\": 2530192}, {\"Month\": \"2002-11-01T00:00:00\", \"Passenger_Trips\": 2318252}, {\"Month\": \"2002-12-01T00:00:00\", \"Passenger_Trips\": 2388917}, {\"Month\": \"2003-01-01T00:00:00\", \"Passenger_Trips\": 2403943}, {\"Month\": \"2003-02-01T00:00:00\", \"Passenger_Trips\": 2142976}, {\"Month\": \"2003-03-01T00:00:00\", \"Passenger_Trips\": 2381737}, {\"Month\": \"2003-04-01T00:00:00\", \"Passenger_Trips\": 2345014}, {\"Month\": \"2003-05-01T00:00:00\", \"Passenger_Trips\": 2308076}, {\"Month\": \"2003-06-01T00:00:00\", \"Passenger_Trips\": 2297309}, {\"Month\": \"2003-07-01T00:00:00\", \"Passenger_Trips\": 2589228}, {\"Month\": \"2003-08-01T00:00:00\", \"Passenger_Trips\": 2538871}, {\"Month\": \"2003-09-01T00:00:00\", \"Passenger_Trips\": 2643043}, {\"Month\": \"2003-10-01T00:00:00\", \"Passenger_Trips\": 2836266}, {\"Month\": \"2003-11-01T00:00:00\", \"Passenger_Trips\": 2693981}, {\"Month\": \"2003-12-01T00:00:00\", \"Passenger_Trips\": 2754375}, {\"Month\": \"2004-01-01T00:00:00\", \"Passenger_Trips\": 2750600}, {\"Month\": \"2004-02-01T00:00:00\", \"Passenger_Trips\": 2487926}, {\"Month\": \"2004-03-01T00:00:00\", \"Passenger_Trips\": 2753960}, {\"Month\": \"2004-04-01T00:00:00\", \"Passenger_Trips\": 2711398}, {\"Month\": \"2004-05-01T00:00:00\", \"Passenger_Trips\": 2679578}, {\"Month\": \"2004-06-01T00:00:00\", \"Passenger_Trips\": 2767355}, {\"Month\": \"2004-07-01T00:00:00\", \"Passenger_Trips\": 3037339}, {\"Month\": \"2004-08-01T00:00:00\", \"Passenger_Trips\": 3000431}, {\"Month\": \"2004-09-01T00:00:00\", \"Passenger_Trips\": 3031851}, {\"Month\": \"2004-10-01T00:00:00\", \"Passenger_Trips\": 3134469}, {\"Month\": \"2004-11-01T00:00:00\", \"Passenger_Trips\": 2916337}, {\"Month\": \"2004-12-01T00:00:00\", \"Passenger_Trips\": 2928678}, {\"Month\": \"2005-01-01T00:00:00\", \"Passenger_Trips\": 2907160}, {\"Month\": \"2005-02-01T00:00:00\", \"Passenger_Trips\": 2680167}, {\"Month\": \"2005-03-01T00:00:00\", \"Passenger_Trips\": 3047193}, {\"Month\": \"2005-04-01T00:00:00\", \"Passenger_Trips\": 2984074}, {\"Month\": \"2005-05-01T00:00:00\", \"Passenger_Trips\": 2858467}, {\"Month\": \"2005-06-01T00:00:00\", \"Passenger_Trips\": 2837904}, {\"Month\": \"2005-07-01T00:00:00\", \"Passenger_Trips\": 3162504}, {\"Month\": \"2005-08-01T00:00:00\", \"Passenger_Trips\": 3089628}, {\"Month\": \"2005-09-01T00:00:00\", \"Passenger_Trips\": 3200864}, {\"Month\": \"2005-10-01T00:00:00\", \"Passenger_Trips\": 3226650}, {\"Month\": \"2005-11-01T00:00:00\", \"Passenger_Trips\": 3048374}, {\"Month\": \"2005-12-01T00:00:00\", \"Passenger_Trips\": 3078482}, {\"Month\": \"2006-01-01T00:00:00\", \"Passenger_Trips\": 3060599}, {\"Month\": \"2006-02-01T00:00:00\", \"Passenger_Trips\": 2709136}, {\"Month\": \"2006-03-01T00:00:00\", \"Passenger_Trips\": 3066917}, {\"Month\": \"2006-04-01T00:00:00\", \"Passenger_Trips\": 3087538}, {\"Month\": \"2006-05-01T00:00:00\", \"Passenger_Trips\": 3000075}, {\"Month\": \"2006-06-01T00:00:00\", \"Passenger_Trips\": 2986062}, {\"Month\": \"2006-07-01T00:00:00\", \"Passenger_Trips\": 3329603}, {\"Month\": \"2006-08-01T00:00:00\", \"Passenger_Trips\": 3235232}, {\"Month\": \"2006-09-01T00:00:00\", \"Passenger_Trips\": 3335905}, {\"Month\": \"2006-10-01T00:00:00\", \"Passenger_Trips\": 3486850}, {\"Month\": \"2006-11-01T00:00:00\", \"Passenger_Trips\": 3359037}, {\"Month\": \"2006-12-01T00:00:00\", \"Passenger_Trips\": 3333804}, {\"Month\": \"2007-01-01T00:00:00\", \"Passenger_Trips\": 3285449}, {\"Month\": \"2007-02-01T00:00:00\", \"Passenger_Trips\": 2926790}, {\"Month\": \"2007-03-01T00:00:00\", \"Passenger_Trips\": 3333635}, {\"Month\": \"2007-04-01T00:00:00\", \"Passenger_Trips\": 3272319}, {\"Month\": \"2007-05-01T00:00:00\", \"Passenger_Trips\": 3159818}, {\"Month\": \"2007-06-01T00:00:00\", \"Passenger_Trips\": 3099347}, {\"Month\": \"2007-07-01T00:00:00\", \"Passenger_Trips\": 3475561}, {\"Month\": \"2007-08-01T00:00:00\", \"Passenger_Trips\": 3416008}, {\"Month\": \"2007-09-01T00:00:00\", \"Passenger_Trips\": 3391040}, {\"Month\": \"2007-10-01T00:00:00\", \"Passenger_Trips\": 3661842}, {\"Month\": \"2007-11-01T00:00:00\", \"Passenger_Trips\": 3502465}, {\"Month\": \"2007-12-01T00:00:00\", \"Passenger_Trips\": 3524822}, {\"Month\": \"2008-01-01T00:00:00\", \"Passenger_Trips\": 3526638}, {\"Month\": \"2008-02-01T00:00:00\", \"Passenger_Trips\": 3333522}, {\"Month\": \"2008-03-01T00:00:00\", \"Passenger_Trips\": 3676094}, {\"Month\": \"2008-04-01T00:00:00\", \"Passenger_Trips\": 3498710}, {\"Month\": \"2008-05-01T00:00:00\", \"Passenger_Trips\": 3446499}, {\"Month\": \"2008-06-01T00:00:00\", \"Passenger_Trips\": 3351414}, {\"Month\": \"2008-07-01T00:00:00\", \"Passenger_Trips\": 3750974}, {\"Month\": \"2008-08-01T00:00:00\", \"Passenger_Trips\": 3596543}, {\"Month\": \"2008-09-01T00:00:00\", \"Passenger_Trips\": 3595426}, {\"Month\": \"2008-10-01T00:00:00\", \"Passenger_Trips\": 3955075}, {\"Month\": \"2008-11-01T00:00:00\", \"Passenger_Trips\": 3641503}, {\"Month\": \"2008-12-01T00:00:00\", \"Passenger_Trips\": 3690956}, {\"Month\": \"2009-01-01T00:00:00\", \"Passenger_Trips\": 3692460}, {\"Month\": \"2009-02-01T00:00:00\", \"Passenger_Trips\": 3193568}, {\"Month\": \"2009-03-01T00:00:00\", \"Passenger_Trips\": 3662100}, {\"Month\": \"2009-04-01T00:00:00\", \"Passenger_Trips\": 3639036}, {\"Month\": \"2009-05-01T00:00:00\", \"Passenger_Trips\": 3474950}, {\"Month\": \"2009-06-01T00:00:00\", \"Passenger_Trips\": 3334296}, {\"Month\": \"2009-07-01T00:00:00\", \"Passenger_Trips\": 3776590}, {\"Month\": \"2009-08-01T00:00:00\", \"Passenger_Trips\": 3732806}, {\"Month\": \"2009-09-01T00:00:00\", \"Passenger_Trips\": 3809882}, {\"Month\": \"2009-10-01T00:00:00\", \"Passenger_Trips\": 4016110}, {\"Month\": \"2009-11-01T00:00:00\", \"Passenger_Trips\": 3824003}, {\"Month\": \"2009-12-01T00:00:00\", \"Passenger_Trips\": 3790607}, {\"Month\": \"2010-01-01T00:00:00\", \"Passenger_Trips\": 3689908}, {\"Month\": \"2010-02-01T00:00:00\", \"Passenger_Trips\": 3524434}, {\"Month\": \"2010-03-01T00:00:00\", \"Passenger_Trips\": 3961659}, {\"Month\": \"2010-04-01T00:00:00\", \"Passenger_Trips\": 3905597}, {\"Month\": \"2010-05-01T00:00:00\", \"Passenger_Trips\": 3698738}, {\"Month\": \"2010-06-01T00:00:00\", \"Passenger_Trips\": 3693933}, {\"Month\": \"2010-07-01T00:00:00\", \"Passenger_Trips\": 4117947}, {\"Month\": \"2010-08-01T00:00:00\", \"Passenger_Trips\": 4000791}, {\"Month\": \"2010-09-01T00:00:00\", \"Passenger_Trips\": 4100645}, {\"Month\": \"2010-10-01T00:00:00\", \"Passenger_Trips\": 4309591}, {\"Month\": \"2010-11-01T00:00:00\", \"Passenger_Trips\": 4106172}, {\"Month\": \"2010-12-01T00:00:00\", \"Passenger_Trips\": 4200901}, {\"Month\": \"2011-01-01T00:00:00\", \"Passenger_Trips\": 3934531}, {\"Month\": \"2011-02-01T00:00:00\", \"Passenger_Trips\": 3514401}, {\"Month\": \"2011-03-01T00:00:00\", \"Passenger_Trips\": 4037764}, {\"Month\": \"2011-04-01T00:00:00\", \"Passenger_Trips\": 3995515}, {\"Month\": \"2011-05-01T00:00:00\", \"Passenger_Trips\": 3876360}, {\"Month\": \"2011-06-01T00:00:00\", \"Passenger_Trips\": 3619719}, {\"Month\": \"2011-07-01T00:00:00\", \"Passenger_Trips\": 4103960}, {\"Month\": \"2011-08-01T00:00:00\", \"Passenger_Trips\": 3972928}, {\"Month\": \"2011-09-01T00:00:00\", \"Passenger_Trips\": 3982828}, {\"Month\": \"2011-10-01T00:00:00\", \"Passenger_Trips\": 4121280}, {\"Month\": \"2011-11-01T00:00:00\", \"Passenger_Trips\": 4022533}, {\"Month\": \"2011-12-01T00:00:00\", \"Passenger_Trips\": 4046413}, {\"Month\": \"2012-01-01T00:00:00\", \"Passenger_Trips\": 3991289}, {\"Month\": \"2012-02-01T00:00:00\", \"Passenger_Trips\": 3664170}, {\"Month\": \"2012-03-01T00:00:00\", \"Passenger_Trips\": 4131904}, {\"Month\": \"2012-04-01T00:00:00\", \"Passenger_Trips\": 4028930}, {\"Month\": \"2012-05-01T00:00:00\", \"Passenger_Trips\": 3988785}, {\"Month\": \"2012-06-01T00:00:00\", \"Passenger_Trips\": 3899089}, {\"Month\": \"2012-07-01T00:00:00\", \"Passenger_Trips\": 4346541}, {\"Month\": \"2012-08-01T00:00:00\", \"Passenger_Trips\": 4254675}, {\"Month\": \"2012-09-01T00:00:00\", \"Passenger_Trips\": 4315386}, {\"Month\": \"2012-10-01T00:00:00\", \"Passenger_Trips\": 4539656}, {\"Month\": \"2012-11-01T00:00:00\", \"Passenger_Trips\": 4424934}, {\"Month\": \"2012-12-01T00:00:00\", \"Passenger_Trips\": 4312068}, {\"Month\": \"2013-01-01T00:00:00\", \"Passenger_Trips\": 4201938}, {\"Month\": \"2013-02-01T00:00:00\", \"Passenger_Trips\": 3739833}, {\"Month\": \"2013-03-01T00:00:00\", \"Passenger_Trips\": 4264124}, {\"Month\": \"2013-04-01T00:00:00\", \"Passenger_Trips\": 4241250}, {\"Month\": \"2013-05-01T00:00:00\", \"Passenger_Trips\": 4079167}, {\"Month\": \"2013-06-01T00:00:00\", \"Passenger_Trips\": 4031412}, {\"Month\": \"2013-07-01T00:00:00\", \"Passenger_Trips\": 4591484}, {\"Month\": \"2013-08-01T00:00:00\", \"Passenger_Trips\": 4393300}, {\"Month\": \"2013-09-01T00:00:00\", \"Passenger_Trips\": 4334757}, {\"Month\": \"2013-10-01T00:00:00\", \"Passenger_Trips\": 4715251}, {\"Month\": \"2013-11-01T00:00:00\", \"Passenger_Trips\": 4403008}, {\"Month\": \"2013-12-01T00:00:00\", \"Passenger_Trips\": 4532437}, {\"Month\": \"2014-01-01T00:00:00\", \"Passenger_Trips\": 4414834}, {\"Month\": \"2014-02-01T00:00:00\", \"Passenger_Trips\": 3855481}, {\"Month\": \"2014-03-01T00:00:00\", \"Passenger_Trips\": 4343211}, {\"Month\": \"2014-04-01T00:00:00\", \"Passenger_Trips\": 4337797}, {\"Month\": \"2014-05-01T00:00:00\", \"Passenger_Trips\": 4137288}, {\"Month\": \"2014-06-01T00:00:00\", \"Passenger_Trips\": 4051557}, {\"Month\": \"2014-07-01T00:00:00\", \"Passenger_Trips\": 4544448}, {\"Month\": \"2014-08-01T00:00:00\", \"Passenger_Trips\": 4345265}, {\"Month\": \"2014-09-01T00:00:00\", \"Passenger_Trips\": 4357417}, {\"Month\": \"2014-10-01T00:00:00\", \"Passenger_Trips\": 4761819}, {\"Month\": \"2014-11-01T00:00:00\", \"Passenger_Trips\": 4338916}, {\"Month\": \"2014-12-01T00:00:00\", \"Passenger_Trips\": 4462420}, {\"Month\": \"2015-01-01T00:00:00\", \"Passenger_Trips\": 4250936}, {\"Month\": \"2015-02-01T00:00:00\", \"Passenger_Trips\": 3832417}, {\"Month\": \"2015-03-01T00:00:00\", \"Passenger_Trips\": 4378404}, {\"Month\": \"2015-04-01T00:00:00\", \"Passenger_Trips\": 4321346}, {\"Month\": \"2015-05-01T00:00:00\", \"Passenger_Trips\": 4110969}, {\"Month\": \"2015-06-01T00:00:00\", \"Passenger_Trips\": 4045162}, {\"Month\": \"2015-07-01T00:00:00\", \"Passenger_Trips\": 4686230}, {\"Month\": \"2015-08-01T00:00:00\", \"Passenger_Trips\": 4357865}, {\"Month\": \"2015-09-01T00:00:00\", \"Passenger_Trips\": 4466968}, {\"Month\": \"2015-10-01T00:00:00\", \"Passenger_Trips\": 4756507}, {\"Month\": \"2015-11-01T00:00:00\", \"Passenger_Trips\": 4538117}, {\"Month\": \"2015-12-01T00:00:00\", \"Passenger_Trips\": 4651787}, {\"Month\": \"2016-01-01T00:00:00\", \"Passenger_Trips\": 4444139}, {\"Month\": \"2016-02-01T00:00:00\", \"Passenger_Trips\": 4109247}, {\"Month\": \"2016-03-01T00:00:00\", \"Passenger_Trips\": 4568852}, {\"Month\": \"2016-04-01T00:00:00\", \"Passenger_Trips\": 4426706}, {\"Month\": \"2016-05-01T00:00:00\", \"Passenger_Trips\": 4269438}, {\"Month\": \"2016-06-01T00:00:00\", \"Passenger_Trips\": 4200660}, {\"Month\": \"2016-07-01T00:00:00\", \"Passenger_Trips\": 4728309}, {\"Month\": \"2016-08-01T00:00:00\", \"Passenger_Trips\": 4441017}, {\"Month\": \"2016-09-01T00:00:00\", \"Passenger_Trips\": 4616796}, {\"Month\": \"2016-10-01T00:00:00\", \"Passenger_Trips\": 4776622}, {\"Month\": \"2016-11-01T00:00:00\", \"Passenger_Trips\": 4621383}, {\"Month\": \"2016-12-01T00:00:00\", \"Passenger_Trips\": 4710369}, {\"Month\": \"2017-01-01T00:00:00\", \"Passenger_Trips\": 4568612}, {\"Month\": \"2017-02-01T00:00:00\", \"Passenger_Trips\": 3994184}, {\"Month\": \"2017-03-01T00:00:00\", \"Passenger_Trips\": 4573694}, {\"Month\": \"2017-04-01T00:00:00\", \"Passenger_Trips\": 4499606}, {\"Month\": \"2017-05-01T00:00:00\", \"Passenger_Trips\": 4313158}, {\"Month\": \"2017-06-01T00:00:00\", \"Passenger_Trips\": 4259682}, {\"Month\": \"2017-07-01T00:00:00\", \"Passenger_Trips\": 4808383}, {\"Month\": \"2017-08-01T00:00:00\", \"Passenger_Trips\": 4497680}, {\"Month\": \"2017-09-01T00:00:00\", \"Passenger_Trips\": 4615624}, {\"Month\": \"2017-10-01T00:00:00\", \"Passenger_Trips\": 4935597}, {\"Month\": \"2017-11-01T00:00:00\", \"Passenger_Trips\": 4766589}, {\"Month\": \"2017-12-01T00:00:00\", \"Passenger_Trips\": 4796269}, {\"Month\": \"2018-01-01T00:00:00\", \"Passenger_Trips\": 4645018}, {\"Month\": \"2018-02-01T00:00:00\", \"Passenger_Trips\": 4140792}, {\"Month\": \"2018-03-01T00:00:00\", \"Passenger_Trips\": 4756151}, {\"Month\": \"2018-04-01T00:00:00\", \"Passenger_Trips\": 4621718}, {\"Month\": \"2018-05-01T00:00:00\", \"Passenger_Trips\": 4415367}, {\"Month\": \"2018-06-01T00:00:00\", \"Passenger_Trips\": 4286869}, {\"Month\": \"2018-07-01T00:00:00\", \"Passenger_Trips\": 4938416}, {\"Month\": \"2018-08-01T00:00:00\", \"Passenger_Trips\": 4680921}, {\"Month\": \"2018-09-01T00:00:00\", \"Passenger_Trips\": 4589217}, {\"Month\": \"2018-10-01T00:00:00\", \"Passenger_Trips\": 4976562}, {\"Month\": \"2018-11-01T00:00:00\", \"Passenger_Trips\": 4748759}, {\"Month\": \"2018-12-01T00:00:00\", \"Passenger_Trips\": 4686253}, {\"Month\": \"2019-01-01T00:00:00\", \"Passenger_Trips\": 4627683}, {\"Month\": \"2019-02-01T00:00:00\", \"Passenger_Trips\": 4106805}, {\"Month\": \"2019-03-01T00:00:00\", \"Passenger_Trips\": 4611232}, {\"Month\": \"2019-04-01T00:00:00\", \"Passenger_Trips\": 4658491}, {\"Month\": \"2019-05-01T00:00:00\", \"Passenger_Trips\": 4415809}, {\"Month\": \"2019-06-01T00:00:00\", \"Passenger_Trips\": 4253931}, {\"Month\": \"2019-07-01T00:00:00\", \"Passenger_Trips\": 4922003}, {\"Month\": \"2019-08-01T00:00:00\", \"Passenger_Trips\": 4679652}, {\"Month\": \"2019-09-01T00:00:00\", \"Passenger_Trips\": 4680205}, {\"Month\": \"2019-10-01T00:00:00\", \"Passenger_Trips\": 5105125}, {\"Month\": \"2019-11-01T00:00:00\", \"Passenger_Trips\": 4770550}, {\"Month\": \"2019-12-01T00:00:00\", \"Passenger_Trips\": 4783033}]}}, {\"mode\": \"vega-lite\"});\n",
       "</script>"
      ],
      "text/plain": [
       "alt.Chart(...)"
      ]
     },
     "execution_count": 73,
     "metadata": {},
     "output_type": "execute_result"
    }
   ],
   "source": [
    "alt.Chart(trips_months) \\\n",
    "    .mark_line(color = 'green') \\\n",
    "    .encode(\n",
    "        x = 'Month:T',\n",
    "        y = 'Passenger_Trips:Q') \\\n",
    "    .properties(\n",
    "        width = 400,\n",
    "        height = 250)"
   ]
  },
  {
   "cell_type": "markdown",
   "metadata": {},
   "source": [
    "Plot the moving average centered over a 12-month window."
   ]
  },
  {
   "cell_type": "code",
   "execution_count": 46,
   "metadata": {},
   "outputs": [],
   "source": [
    "df = trips_months \\\n",
    "    .set_index('Month').rolling(window = 12, center = True) \\\n",
    "    .mean() \\\n",
    "    .reset_index()"
   ]
  },
  {
   "cell_type": "code",
   "execution_count": 71,
   "metadata": {},
   "outputs": [
    {
     "data": {
      "text/html": [
       "\n",
       "<div id=\"altair-viz-ba595b86237843e1a3af28048bfcbfe9\"></div>\n",
       "<script type=\"text/javascript\">\n",
       "  (function(spec, embedOpt){\n",
       "    const outputDiv = document.getElementById(\"altair-viz-ba595b86237843e1a3af28048bfcbfe9\");\n",
       "    const paths = {\n",
       "      \"vega\": \"https://cdn.jsdelivr.net/npm//vega@5?noext\",\n",
       "      \"vega-lib\": \"https://cdn.jsdelivr.net/npm//vega-lib?noext\",\n",
       "      \"vega-lite\": \"https://cdn.jsdelivr.net/npm//vega-lite@4.0.2?noext\",\n",
       "      \"vega-embed\": \"https://cdn.jsdelivr.net/npm//vega-embed@6?noext\",\n",
       "    };\n",
       "\n",
       "    function loadScript(lib) {\n",
       "      return new Promise(function(resolve, reject) {\n",
       "        var s = document.createElement('script');\n",
       "        s.src = paths[lib];\n",
       "        s.async = true;\n",
       "        s.onload = () => resolve(paths[lib]);\n",
       "        s.onerror = () => reject(`Error loading script: ${paths[lib]}`);\n",
       "        document.getElementsByTagName(\"head\")[0].appendChild(s);\n",
       "      });\n",
       "    }\n",
       "\n",
       "    function showError(err) {\n",
       "      outputDiv.innerHTML = `<div class=\"error\" style=\"color:red;\">${err}</div>`;\n",
       "      throw err;\n",
       "    }\n",
       "\n",
       "    function displayChart(vegaEmbed) {\n",
       "      vegaEmbed(outputDiv, spec, embedOpt)\n",
       "        .catch(err => showError(`Javascript Error: ${err.message}<br>This usually means there's a typo in your chart specification. See the javascript console for the full traceback.`));\n",
       "    }\n",
       "\n",
       "    if(typeof define === \"function\" && define.amd) {\n",
       "      requirejs.config({paths});\n",
       "      require([\"vega-embed\"], displayChart, err => showError(`Error loading script: ${err.message}`));\n",
       "    } else if (typeof vegaEmbed === \"function\") {\n",
       "      displayChart(vegaEmbed);\n",
       "    } else {\n",
       "      loadScript(\"vega\")\n",
       "        .then(() => loadScript(\"vega-lite\"))\n",
       "        .then(() => loadScript(\"vega-embed\"))\n",
       "        .catch(showError)\n",
       "        .then(() => displayChart(vegaEmbed));\n",
       "    }\n",
       "  })({\"config\": {\"view\": {\"continuousWidth\": 400, \"continuousHeight\": 300}}, \"data\": {\"name\": \"data-82b2f45571ef1de6c824c4ba8848acd9\"}, \"mark\": {\"type\": \"line\", \"color\": \"green\"}, \"encoding\": {\"x\": {\"type\": \"temporal\", \"field\": \"Month\"}, \"y\": {\"type\": \"quantitative\", \"field\": \"Passenger_Trips\"}}, \"height\": 250, \"width\": 400, \"$schema\": \"https://vega.github.io/schema/vega-lite/v4.0.2.json\", \"datasets\": {\"data-82b2f45571ef1de6c824c4ba8848acd9\": [{\"Month\": \"1984-01-01T00:00:00\", \"Passenger_Trips\": null}, {\"Month\": \"1984-02-01T00:00:00\", \"Passenger_Trips\": null}, {\"Month\": \"1984-03-01T00:00:00\", \"Passenger_Trips\": null}, {\"Month\": \"1984-04-01T00:00:00\", \"Passenger_Trips\": null}, {\"Month\": \"1984-05-01T00:00:00\", \"Passenger_Trips\": null}, {\"Month\": \"1984-06-01T00:00:00\", \"Passenger_Trips\": null}, {\"Month\": \"1984-07-01T00:00:00\", \"Passenger_Trips\": 772094.3333333334}, {\"Month\": \"1984-08-01T00:00:00\", \"Passenger_Trips\": 775948.6666666666}, {\"Month\": \"1984-09-01T00:00:00\", \"Passenger_Trips\": 777274.5833333334}, {\"Month\": \"1984-10-01T00:00:00\", \"Passenger_Trips\": 782388.5833333334}, {\"Month\": \"1984-11-01T00:00:00\", \"Passenger_Trips\": 785351.3333333334}, {\"Month\": \"1984-12-01T00:00:00\", \"Passenger_Trips\": 792247.5}, {\"Month\": \"1985-01-01T00:00:00\", \"Passenger_Trips\": 798446.75}, {\"Month\": \"1985-02-01T00:00:00\", \"Passenger_Trips\": 797720.9166666666}, {\"Month\": \"1985-03-01T00:00:00\", \"Passenger_Trips\": 802768.9166666666}, {\"Month\": \"1985-04-01T00:00:00\", \"Passenger_Trips\": 809754.9166666666}, {\"Month\": \"1985-05-01T00:00:00\", \"Passenger_Trips\": 816161.4166666666}, {\"Month\": \"1985-06-01T00:00:00\", \"Passenger_Trips\": 823294.5833333334}, {\"Month\": \"1985-07-01T00:00:00\", \"Passenger_Trips\": 832102.6666666666}, {\"Month\": \"1985-08-01T00:00:00\", \"Passenger_Trips\": 836398.4166666666}, {\"Month\": \"1985-09-01T00:00:00\", \"Passenger_Trips\": 844637.5}, {\"Month\": \"1985-10-01T00:00:00\", \"Passenger_Trips\": 850975.9166666666}, {\"Month\": \"1985-11-01T00:00:00\", \"Passenger_Trips\": 855914.1666666666}, {\"Month\": \"1985-12-01T00:00:00\", \"Passenger_Trips\": 857926.25}, {\"Month\": \"1986-01-01T00:00:00\", \"Passenger_Trips\": 861092.0833333334}, {\"Month\": \"1986-02-01T00:00:00\", \"Passenger_Trips\": 869001.1666666666}, {\"Month\": \"1986-03-01T00:00:00\", \"Passenger_Trips\": 873633.0}, {\"Month\": \"1986-04-01T00:00:00\", \"Passenger_Trips\": 875128.5833333334}, {\"Month\": \"1986-05-01T00:00:00\", \"Passenger_Trips\": 881168.0833333334}, {\"Month\": \"1986-06-01T00:00:00\", \"Passenger_Trips\": 882811.5833333334}, {\"Month\": \"1986-07-01T00:00:00\", \"Passenger_Trips\": 886190.0833333334}, {\"Month\": \"1986-08-01T00:00:00\", \"Passenger_Trips\": 890616.75}, {\"Month\": \"1986-09-01T00:00:00\", \"Passenger_Trips\": 895343.5}, {\"Month\": \"1986-10-01T00:00:00\", \"Passenger_Trips\": 897608.3333333334}, {\"Month\": \"1986-11-01T00:00:00\", \"Passenger_Trips\": 905048.3333333334}, {\"Month\": \"1986-12-01T00:00:00\", \"Passenger_Trips\": 901760.8333333334}, {\"Month\": \"1987-01-01T00:00:00\", \"Passenger_Trips\": 905500.8333333334}, {\"Month\": \"1987-02-01T00:00:00\", \"Passenger_Trips\": 920070.3333333334}, {\"Month\": \"1987-03-01T00:00:00\", \"Passenger_Trips\": 920039.1666666666}, {\"Month\": \"1987-04-01T00:00:00\", \"Passenger_Trips\": 927044.25}, {\"Month\": \"1987-05-01T00:00:00\", \"Passenger_Trips\": 937064.4166666666}, {\"Month\": \"1987-06-01T00:00:00\", \"Passenger_Trips\": 945959.0833333334}, {\"Month\": \"1987-07-01T00:00:00\", \"Passenger_Trips\": 951909.1666666666}, {\"Month\": \"1987-08-01T00:00:00\", \"Passenger_Trips\": 956783.6666666666}, {\"Month\": \"1987-09-01T00:00:00\", \"Passenger_Trips\": 963991.8333333334}, {\"Month\": \"1987-10-01T00:00:00\", \"Passenger_Trips\": 974436.3333333334}, {\"Month\": \"1987-11-01T00:00:00\", \"Passenger_Trips\": 976949.9166666666}, {\"Month\": \"1987-12-01T00:00:00\", \"Passenger_Trips\": 989540.75}, {\"Month\": \"1988-01-01T00:00:00\", \"Passenger_Trips\": 1003111.5}, {\"Month\": \"1988-02-01T00:00:00\", \"Passenger_Trips\": 1017037.9166666666}, {\"Month\": \"1988-03-01T00:00:00\", \"Passenger_Trips\": 1032026.1666666666}, {\"Month\": \"1988-04-01T00:00:00\", \"Passenger_Trips\": 1049467.3333333333}, {\"Month\": \"1988-05-01T00:00:00\", \"Passenger_Trips\": 1057012.8333333333}, {\"Month\": \"1988-06-01T00:00:00\", \"Passenger_Trips\": 1061149.0833333333}, {\"Month\": \"1988-07-01T00:00:00\", \"Passenger_Trips\": 1064882.25}, {\"Month\": \"1988-08-01T00:00:00\", \"Passenger_Trips\": 1063917.9166666667}, {\"Month\": \"1988-09-01T00:00:00\", \"Passenger_Trips\": 1061517.25}, {\"Month\": \"1988-10-01T00:00:00\", \"Passenger_Trips\": 1065243.75}, {\"Month\": \"1988-11-01T00:00:00\", \"Passenger_Trips\": 1063406.4166666667}, {\"Month\": \"1988-12-01T00:00:00\", \"Passenger_Trips\": 1055978.0833333333}, {\"Month\": \"1989-01-01T00:00:00\", \"Passenger_Trips\": 1052086.4166666667}, {\"Month\": \"1989-02-01T00:00:00\", \"Passenger_Trips\": 1042759.75}, {\"Month\": \"1989-03-01T00:00:00\", \"Passenger_Trips\": 1004399.0}, {\"Month\": \"1989-04-01T00:00:00\", \"Passenger_Trips\": 922857.75}, {\"Month\": \"1989-05-01T00:00:00\", \"Passenger_Trips\": 863358.5}, {\"Month\": \"1989-06-01T00:00:00\", \"Passenger_Trips\": 827592.8333333334}, {\"Month\": \"1989-07-01T00:00:00\", \"Passenger_Trips\": 806650.4166666666}, {\"Month\": \"1989-08-01T00:00:00\", \"Passenger_Trips\": 798807.0}, {\"Month\": \"1989-09-01T00:00:00\", \"Passenger_Trips\": 793582.25}, {\"Month\": \"1989-10-01T00:00:00\", \"Passenger_Trips\": 784015.4166666666}, {\"Month\": \"1989-11-01T00:00:00\", \"Passenger_Trips\": 787972.75}, {\"Month\": \"1989-12-01T00:00:00\", \"Passenger_Trips\": 787602.4166666666}, {\"Month\": \"1990-01-01T00:00:00\", \"Passenger_Trips\": 784411.8333333334}, {\"Month\": \"1990-02-01T00:00:00\", \"Passenger_Trips\": 785761.8333333334}, {\"Month\": \"1990-03-01T00:00:00\", \"Passenger_Trips\": 815484.5}, {\"Month\": \"1990-04-01T00:00:00\", \"Passenger_Trips\": 885683.4166666666}, {\"Month\": \"1990-05-01T00:00:00\", \"Passenger_Trips\": 944379.0833333334}, {\"Month\": \"1990-06-01T00:00:00\", \"Passenger_Trips\": 984802.5}, {\"Month\": \"1990-07-01T00:00:00\", \"Passenger_Trips\": 1016338.25}, {\"Month\": \"1990-08-01T00:00:00\", \"Passenger_Trips\": 1042295.5}, {\"Month\": \"1990-09-01T00:00:00\", \"Passenger_Trips\": 1054635.25}, {\"Month\": \"1990-10-01T00:00:00\", \"Passenger_Trips\": 1067106.75}, {\"Month\": \"1990-11-01T00:00:00\", \"Passenger_Trips\": 1079954.1666666667}, {\"Month\": \"1990-12-01T00:00:00\", \"Passenger_Trips\": 1094478.5}, {\"Month\": \"1991-01-01T00:00:00\", \"Passenger_Trips\": 1114202.0833333333}, {\"Month\": \"1991-02-01T00:00:00\", \"Passenger_Trips\": 1146720.5833333333}, {\"Month\": \"1991-03-01T00:00:00\", \"Passenger_Trips\": 1179964.75}, {\"Month\": \"1991-04-01T00:00:00\", \"Passenger_Trips\": 1221069.3333333333}, {\"Month\": \"1991-05-01T00:00:00\", \"Passenger_Trips\": 1261128.5}, {\"Month\": \"1991-06-01T00:00:00\", \"Passenger_Trips\": 1297558.8333333333}, {\"Month\": \"1991-07-01T00:00:00\", \"Passenger_Trips\": 1332075.6666666667}, {\"Month\": \"1991-08-01T00:00:00\", \"Passenger_Trips\": 1357532.1666666667}, {\"Month\": \"1991-09-01T00:00:00\", \"Passenger_Trips\": 1378955.25}, {\"Month\": \"1991-10-01T00:00:00\", \"Passenger_Trips\": 1395613.3333333333}, {\"Month\": \"1991-11-01T00:00:00\", \"Passenger_Trips\": 1412239.6666666667}, {\"Month\": \"1991-12-01T00:00:00\", \"Passenger_Trips\": 1425101.0}, {\"Month\": \"1992-01-01T00:00:00\", \"Passenger_Trips\": 1431676.9166666667}, {\"Month\": \"1992-02-01T00:00:00\", \"Passenger_Trips\": 1429278.25}, {\"Month\": \"1992-03-01T00:00:00\", \"Passenger_Trips\": 1422194.8333333333}, {\"Month\": \"1992-04-01T00:00:00\", \"Passenger_Trips\": 1414694.9166666667}, {\"Month\": \"1992-05-01T00:00:00\", \"Passenger_Trips\": 1407708.75}, {\"Month\": \"1992-06-01T00:00:00\", \"Passenger_Trips\": 1401601.6666666667}, {\"Month\": \"1992-07-01T00:00:00\", \"Passenger_Trips\": 1395980.8333333333}, {\"Month\": \"1992-08-01T00:00:00\", \"Passenger_Trips\": 1400491.5833333333}, {\"Month\": \"1992-09-01T00:00:00\", \"Passenger_Trips\": 1408049.75}, {\"Month\": \"1992-10-01T00:00:00\", \"Passenger_Trips\": 1418698.0}, {\"Month\": \"1992-11-01T00:00:00\", \"Passenger_Trips\": 1430800.25}, {\"Month\": \"1992-12-01T00:00:00\", \"Passenger_Trips\": 1438910.9166666667}, {\"Month\": \"1993-01-01T00:00:00\", \"Passenger_Trips\": 1449290.5833333333}, {\"Month\": \"1993-02-01T00:00:00\", \"Passenger_Trips\": 1465045.5833333333}, {\"Month\": \"1993-03-01T00:00:00\", \"Passenger_Trips\": 1486671.0833333333}, {\"Month\": \"1993-04-01T00:00:00\", \"Passenger_Trips\": 1503891.0}, {\"Month\": \"1993-05-01T00:00:00\", \"Passenger_Trips\": 1520637.3333333333}, {\"Month\": \"1993-06-01T00:00:00\", \"Passenger_Trips\": 1539603.6666666667}, {\"Month\": \"1993-07-01T00:00:00\", \"Passenger_Trips\": 1557422.75}, {\"Month\": \"1993-08-01T00:00:00\", \"Passenger_Trips\": 1573328.5833333333}, {\"Month\": \"1993-09-01T00:00:00\", \"Passenger_Trips\": 1594454.75}, {\"Month\": \"1993-10-01T00:00:00\", \"Passenger_Trips\": 1624359.0833333333}, {\"Month\": \"1993-11-01T00:00:00\", \"Passenger_Trips\": 1641757.25}, {\"Month\": \"1993-12-01T00:00:00\", \"Passenger_Trips\": 1660996.0833333333}, {\"Month\": \"1994-01-01T00:00:00\", \"Passenger_Trips\": 1685420.5833333333}, {\"Month\": \"1994-02-01T00:00:00\", \"Passenger_Trips\": 1709508.6666666667}, {\"Month\": \"1994-03-01T00:00:00\", \"Passenger_Trips\": 1728828.8333333333}, {\"Month\": \"1994-04-01T00:00:00\", \"Passenger_Trips\": 1749689.3333333333}, {\"Month\": \"1994-05-01T00:00:00\", \"Passenger_Trips\": 1772549.1666666667}, {\"Month\": \"1994-06-01T00:00:00\", \"Passenger_Trips\": 1790552.5833333333}, {\"Month\": \"1994-07-01T00:00:00\", \"Passenger_Trips\": 1805446.25}, {\"Month\": \"1994-08-01T00:00:00\", \"Passenger_Trips\": 1828208.6666666667}, {\"Month\": \"1994-09-01T00:00:00\", \"Passenger_Trips\": 1842761.5}, {\"Month\": \"1994-10-01T00:00:00\", \"Passenger_Trips\": 1850870.1666666667}, {\"Month\": \"1994-11-01T00:00:00\", \"Passenger_Trips\": 1867983.25}, {\"Month\": \"1994-12-01T00:00:00\", \"Passenger_Trips\": 1883138.25}, {\"Month\": \"1995-01-01T00:00:00\", \"Passenger_Trips\": 1896242.0833333333}, {\"Month\": \"1995-02-01T00:00:00\", \"Passenger_Trips\": 1904598.5}, {\"Month\": \"1995-03-01T00:00:00\", \"Passenger_Trips\": 1921456.5}, {\"Month\": \"1995-04-01T00:00:00\", \"Passenger_Trips\": 1931714.4166666667}, {\"Month\": \"1995-05-01T00:00:00\", \"Passenger_Trips\": 1939386.8333333333}, {\"Month\": \"1995-06-01T00:00:00\", \"Passenger_Trips\": 1950926.4166666667}, {\"Month\": \"1995-07-01T00:00:00\", \"Passenger_Trips\": 1963243.3333333333}, {\"Month\": \"1995-08-01T00:00:00\", \"Passenger_Trips\": 1970681.4166666667}, {\"Month\": \"1995-09-01T00:00:00\", \"Passenger_Trips\": 1981684.75}, {\"Month\": \"1995-10-01T00:00:00\", \"Passenger_Trips\": 1993429.75}, {\"Month\": \"1995-11-01T00:00:00\", \"Passenger_Trips\": 2003564.75}, {\"Month\": \"1995-12-01T00:00:00\", \"Passenger_Trips\": 2016286.8333333333}, {\"Month\": \"1996-01-01T00:00:00\", \"Passenger_Trips\": 2026707.4166666667}, {\"Month\": \"1996-02-01T00:00:00\", \"Passenger_Trips\": 2034964.0}, {\"Month\": \"1996-03-01T00:00:00\", \"Passenger_Trips\": 2037895.6666666667}, {\"Month\": \"1996-04-01T00:00:00\", \"Passenger_Trips\": 2044665.0}, {\"Month\": \"1996-05-01T00:00:00\", \"Passenger_Trips\": 2052720.5}, {\"Month\": \"1996-06-01T00:00:00\", \"Passenger_Trips\": 2052749.5}, {\"Month\": \"1996-07-01T00:00:00\", \"Passenger_Trips\": 2058453.6666666667}, {\"Month\": \"1996-08-01T00:00:00\", \"Passenger_Trips\": 2057057.25}, {\"Month\": \"1996-09-01T00:00:00\", \"Passenger_Trips\": 2056935.5}, {\"Month\": \"1996-10-01T00:00:00\", \"Passenger_Trips\": 2062470.0833333333}, {\"Month\": \"1996-11-01T00:00:00\", \"Passenger_Trips\": 2062490.0833333333}, {\"Month\": \"1996-12-01T00:00:00\", \"Passenger_Trips\": 2060838.25}, {\"Month\": \"1997-01-01T00:00:00\", \"Passenger_Trips\": 2058886.5}, {\"Month\": \"1997-02-01T00:00:00\", \"Passenger_Trips\": 2061986.75}, {\"Month\": \"1997-03-01T00:00:00\", \"Passenger_Trips\": 2068544.0}, {\"Month\": \"1997-04-01T00:00:00\", \"Passenger_Trips\": 2068851.0}, {\"Month\": \"1997-05-01T00:00:00\", \"Passenger_Trips\": 2074126.5833333333}, {\"Month\": \"1997-06-01T00:00:00\", \"Passenger_Trips\": 2074587.6666666667}, {\"Month\": \"1997-07-01T00:00:00\", \"Passenger_Trips\": 2070082.9166666667}, {\"Month\": \"1997-08-01T00:00:00\", \"Passenger_Trips\": 2070500.1666666667}, {\"Month\": \"1997-09-01T00:00:00\", \"Passenger_Trips\": 2068539.75}, {\"Month\": \"1997-10-01T00:00:00\", \"Passenger_Trips\": 2067579.75}, {\"Month\": \"1997-11-01T00:00:00\", \"Passenger_Trips\": 2070221.5833333333}, {\"Month\": \"1997-12-01T00:00:00\", \"Passenger_Trips\": 2075279.4166666667}, {\"Month\": \"1998-01-01T00:00:00\", \"Passenger_Trips\": 2080706.1666666667}, {\"Month\": \"1998-02-01T00:00:00\", \"Passenger_Trips\": 2080909.4166666667}, {\"Month\": \"1998-03-01T00:00:00\", \"Passenger_Trips\": 2076885.3333333333}, {\"Month\": \"1998-04-01T00:00:00\", \"Passenger_Trips\": 2077136.25}, {\"Month\": \"1998-05-01T00:00:00\", \"Passenger_Trips\": 2077527.4166666667}, {\"Month\": \"1998-06-01T00:00:00\", \"Passenger_Trips\": 2078315.5}, {\"Month\": \"1998-07-01T00:00:00\", \"Passenger_Trips\": 2081990.0833333333}, {\"Month\": \"1998-08-01T00:00:00\", \"Passenger_Trips\": 2079775.5833333333}, {\"Month\": \"1998-09-01T00:00:00\", \"Passenger_Trips\": 2080912.5833333333}, {\"Month\": \"1998-10-01T00:00:00\", \"Passenger_Trips\": 2085446.5}, {\"Month\": \"1998-11-01T00:00:00\", \"Passenger_Trips\": 2086140.1666666667}, {\"Month\": \"1998-12-01T00:00:00\", \"Passenger_Trips\": 2090016.6666666667}, {\"Month\": \"1999-01-01T00:00:00\", \"Passenger_Trips\": 2097037.5833333333}, {\"Month\": \"1999-02-01T00:00:00\", \"Passenger_Trips\": 2104121.5833333335}, {\"Month\": \"1999-03-01T00:00:00\", \"Passenger_Trips\": 2113745.8333333335}, {\"Month\": \"1999-04-01T00:00:00\", \"Passenger_Trips\": 2128678.75}, {\"Month\": \"1999-05-01T00:00:00\", \"Passenger_Trips\": 2138729.6666666665}, {\"Month\": \"1999-06-01T00:00:00\", \"Passenger_Trips\": 2147585.5}, {\"Month\": \"1999-07-01T00:00:00\", \"Passenger_Trips\": 2152246.1666666665}, {\"Month\": \"1999-08-01T00:00:00\", \"Passenger_Trips\": 2158107.5833333335}, {\"Month\": \"1999-09-01T00:00:00\", \"Passenger_Trips\": 2172509.4166666665}, {\"Month\": \"1999-10-01T00:00:00\", \"Passenger_Trips\": 2184072.5833333335}, {\"Month\": \"1999-11-01T00:00:00\", \"Passenger_Trips\": 2196151.0}, {\"Month\": \"1999-12-01T00:00:00\", \"Passenger_Trips\": 2208306.9166666665}, {\"Month\": \"2000-01-01T00:00:00\", \"Passenger_Trips\": 2222797.4166666665}, {\"Month\": \"2000-02-01T00:00:00\", \"Passenger_Trips\": 2226893.25}, {\"Month\": \"2000-03-01T00:00:00\", \"Passenger_Trips\": 2240523.5}, {\"Month\": \"2000-04-01T00:00:00\", \"Passenger_Trips\": 2262749.8333333335}, {\"Month\": \"2000-05-01T00:00:00\", \"Passenger_Trips\": 2275391.25}, {\"Month\": \"2000-06-01T00:00:00\", \"Passenger_Trips\": 2297955.5}, {\"Month\": \"2000-07-01T00:00:00\", \"Passenger_Trips\": 2326643.1666666665}, {\"Month\": \"2000-08-01T00:00:00\", \"Passenger_Trips\": 2364924.75}, {\"Month\": \"2000-09-01T00:00:00\", \"Passenger_Trips\": 2372360.3333333335}, {\"Month\": \"2000-10-01T00:00:00\", \"Passenger_Trips\": 2392481.25}, {\"Month\": \"2000-11-01T00:00:00\", \"Passenger_Trips\": 2423770.4166666665}, {\"Month\": \"2000-12-01T00:00:00\", \"Passenger_Trips\": 2445561.0833333335}, {\"Month\": \"2001-01-01T00:00:00\", \"Passenger_Trips\": 2459167.4166666665}, {\"Month\": \"2001-02-01T00:00:00\", \"Passenger_Trips\": 2491757.4166666665}, {\"Month\": \"2001-03-01T00:00:00\", \"Passenger_Trips\": 2504780.75}, {\"Month\": \"2001-04-01T00:00:00\", \"Passenger_Trips\": 2469353.9166666665}, {\"Month\": \"2001-05-01T00:00:00\", \"Passenger_Trips\": 2431668.6666666665}, {\"Month\": \"2001-06-01T00:00:00\", \"Passenger_Trips\": 2404867.5833333335}, {\"Month\": \"2001-07-01T00:00:00\", \"Passenger_Trips\": 2382144.5833333335}, {\"Month\": \"2001-08-01T00:00:00\", \"Passenger_Trips\": 2355168.1666666665}, {\"Month\": \"2001-09-01T00:00:00\", \"Passenger_Trips\": 2351079.25}, {\"Month\": \"2001-10-01T00:00:00\", \"Passenger_Trips\": 2329643.3333333335}, {\"Month\": \"2001-11-01T00:00:00\", \"Passenger_Trips\": 2290835.4166666665}, {\"Month\": \"2001-12-01T00:00:00\", \"Passenger_Trips\": 2265282.1666666665}, {\"Month\": \"2002-01-01T00:00:00\", \"Passenger_Trips\": 2234888.3333333335}, {\"Month\": \"2002-02-01T00:00:00\", \"Passenger_Trips\": 2207246.8333333335}, {\"Month\": \"2002-03-01T00:00:00\", \"Passenger_Trips\": 2186451.5}, {\"Month\": \"2002-04-01T00:00:00\", \"Passenger_Trips\": 2199334.3333333335}, {\"Month\": \"2002-05-01T00:00:00\", \"Passenger_Trips\": 2234077.0833333335}, {\"Month\": \"2002-06-01T00:00:00\", \"Passenger_Trips\": 2250977.5833333335}, {\"Month\": \"2002-07-01T00:00:00\", \"Passenger_Trips\": 2265231.4166666665}, {\"Month\": \"2002-08-01T00:00:00\", \"Passenger_Trips\": 2274201.9166666665}, {\"Month\": \"2002-09-01T00:00:00\", \"Passenger_Trips\": 2279078.0}, {\"Month\": \"2002-10-01T00:00:00\", \"Passenger_Trips\": 2288693.4166666665}, {\"Month\": \"2002-11-01T00:00:00\", \"Passenger_Trips\": 2305767.9166666665}, {\"Month\": \"2002-12-01T00:00:00\", \"Passenger_Trips\": 2321630.1666666665}, {\"Month\": \"2003-01-01T00:00:00\", \"Passenger_Trips\": 2342276.1666666665}, {\"Month\": \"2003-02-01T00:00:00\", \"Passenger_Trips\": 2361833.5}, {\"Month\": \"2003-03-01T00:00:00\", \"Passenger_Trips\": 2381985.8333333335}, {\"Month\": \"2003-04-01T00:00:00\", \"Passenger_Trips\": 2407296.5}, {\"Month\": \"2003-05-01T00:00:00\", \"Passenger_Trips\": 2432802.6666666665}, {\"Month\": \"2003-06-01T00:00:00\", \"Passenger_Trips\": 2464113.4166666665}, {\"Month\": \"2003-07-01T00:00:00\", \"Passenger_Trips\": 2494568.25}, {\"Month\": \"2003-08-01T00:00:00\", \"Passenger_Trips\": 2523456.3333333335}, {\"Month\": \"2003-09-01T00:00:00\", \"Passenger_Trips\": 2552202.1666666665}, {\"Month\": \"2003-10-01T00:00:00\", \"Passenger_Trips\": 2583220.75}, {\"Month\": \"2003-11-01T00:00:00\", \"Passenger_Trips\": 2613752.75}, {\"Month\": \"2003-12-01T00:00:00\", \"Passenger_Trips\": 2644711.25}, {\"Month\": \"2004-01-01T00:00:00\", \"Passenger_Trips\": 2683881.75}, {\"Month\": \"2004-02-01T00:00:00\", \"Passenger_Trips\": 2721224.3333333335}, {\"Month\": \"2004-03-01T00:00:00\", \"Passenger_Trips\": 2759687.6666666665}, {\"Month\": \"2004-04-01T00:00:00\", \"Passenger_Trips\": 2792088.3333333335}, {\"Month\": \"2004-05-01T00:00:00\", \"Passenger_Trips\": 2816938.5833333335}, {\"Month\": \"2004-06-01T00:00:00\", \"Passenger_Trips\": 2835468.25}, {\"Month\": \"2004-07-01T00:00:00\", \"Passenger_Trips\": 2849993.5}, {\"Month\": \"2004-08-01T00:00:00\", \"Passenger_Trips\": 2863040.1666666665}, {\"Month\": \"2004-09-01T00:00:00\", \"Passenger_Trips\": 2879060.25}, {\"Month\": \"2004-10-01T00:00:00\", \"Passenger_Trips\": 2903496.3333333335}, {\"Month\": \"2004-11-01T00:00:00\", \"Passenger_Trips\": 2926219.3333333335}, {\"Month\": \"2004-12-01T00:00:00\", \"Passenger_Trips\": 2941126.75}, {\"Month\": \"2005-01-01T00:00:00\", \"Passenger_Trips\": 2947005.8333333335}, {\"Month\": \"2005-02-01T00:00:00\", \"Passenger_Trips\": 2957436.25}, {\"Month\": \"2005-03-01T00:00:00\", \"Passenger_Trips\": 2964869.3333333335}, {\"Month\": \"2005-04-01T00:00:00\", \"Passenger_Trips\": 2978953.75}, {\"Month\": \"2005-05-01T00:00:00\", \"Passenger_Trips\": 2986635.5}, {\"Month\": \"2005-06-01T00:00:00\", \"Passenger_Trips\": 2997638.5833333335}, {\"Month\": \"2005-07-01T00:00:00\", \"Passenger_Trips\": 3010122.25}, {\"Month\": \"2005-08-01T00:00:00\", \"Passenger_Trips\": 3022908.8333333335}, {\"Month\": \"2005-09-01T00:00:00\", \"Passenger_Trips\": 3025322.9166666665}, {\"Month\": \"2005-10-01T00:00:00\", \"Passenger_Trips\": 3026966.5833333335}, {\"Month\": \"2005-11-01T00:00:00\", \"Passenger_Trips\": 3035588.5833333335}, {\"Month\": \"2005-12-01T00:00:00\", \"Passenger_Trips\": 3047389.25}, {\"Month\": \"2006-01-01T00:00:00\", \"Passenger_Trips\": 3059735.75}, {\"Month\": \"2006-02-01T00:00:00\", \"Passenger_Trips\": 3073660.6666666665}, {\"Month\": \"2006-03-01T00:00:00\", \"Passenger_Trips\": 3085794.3333333335}, {\"Month\": \"2006-04-01T00:00:00\", \"Passenger_Trips\": 3097047.75}, {\"Month\": \"2006-05-01T00:00:00\", \"Passenger_Trips\": 3118731.0833333335}, {\"Month\": \"2006-06-01T00:00:00\", \"Passenger_Trips\": 3144619.6666666665}, {\"Month\": \"2006-07-01T00:00:00\", \"Passenger_Trips\": 3165896.5}, {\"Month\": \"2006-08-01T00:00:00\", \"Passenger_Trips\": 3184634.0}, {\"Month\": \"2006-09-01T00:00:00\", \"Passenger_Trips\": 3202771.8333333335}, {\"Month\": \"2006-10-01T00:00:00\", \"Passenger_Trips\": 3224998.3333333335}, {\"Month\": \"2006-11-01T00:00:00\", \"Passenger_Trips\": 3240396.75}, {\"Month\": \"2006-12-01T00:00:00\", \"Passenger_Trips\": 3253708.6666666665}, {\"Month\": \"2007-01-01T00:00:00\", \"Passenger_Trips\": 3263149.0833333335}, {\"Month\": \"2007-02-01T00:00:00\", \"Passenger_Trips\": 3275312.25}, {\"Month\": \"2007-03-01T00:00:00\", \"Passenger_Trips\": 3290376.9166666665}, {\"Month\": \"2007-04-01T00:00:00\", \"Passenger_Trips\": 3294971.5}, {\"Month\": \"2007-05-01T00:00:00\", \"Passenger_Trips\": 3309554.1666666665}, {\"Month\": \"2007-06-01T00:00:00\", \"Passenger_Trips\": 3321506.5}, {\"Month\": \"2007-07-01T00:00:00\", \"Passenger_Trips\": 3337424.6666666665}, {\"Month\": \"2007-08-01T00:00:00\", \"Passenger_Trips\": 3357523.75}, {\"Month\": \"2007-09-01T00:00:00\", \"Passenger_Trips\": 3391418.0833333335}, {\"Month\": \"2007-10-01T00:00:00\", \"Passenger_Trips\": 3419956.3333333335}, {\"Month\": \"2007-11-01T00:00:00\", \"Passenger_Trips\": 3438822.25}, {\"Month\": \"2007-12-01T00:00:00\", \"Passenger_Trips\": 3462712.3333333335}, {\"Month\": \"2008-01-01T00:00:00\", \"Passenger_Trips\": 3483717.9166666665}, {\"Month\": \"2008-02-01T00:00:00\", \"Passenger_Trips\": 3506669.0}, {\"Month\": \"2008-03-01T00:00:00\", \"Passenger_Trips\": 3521713.5833333335}, {\"Month\": \"2008-04-01T00:00:00\", \"Passenger_Trips\": 3538745.75}, {\"Month\": \"2008-05-01T00:00:00\", \"Passenger_Trips\": 3563181.8333333335}, {\"Month\": \"2008-06-01T00:00:00\", \"Passenger_Trips\": 3574768.3333333335}, {\"Month\": \"2008-07-01T00:00:00\", \"Passenger_Trips\": 3588612.8333333335}, {\"Month\": \"2008-08-01T00:00:00\", \"Passenger_Trips\": 3602431.3333333335}, {\"Month\": \"2008-09-01T00:00:00\", \"Passenger_Trips\": 3590768.5}, {\"Month\": \"2008-10-01T00:00:00\", \"Passenger_Trips\": 3589602.3333333335}, {\"Month\": \"2008-11-01T00:00:00\", \"Passenger_Trips\": 3601296.1666666665}, {\"Month\": \"2008-12-01T00:00:00\", \"Passenger_Trips\": 3603667.0833333335}, {\"Month\": \"2009-01-01T00:00:00\", \"Passenger_Trips\": 3602240.5833333335}, {\"Month\": \"2009-02-01T00:00:00\", \"Passenger_Trips\": 3604375.25}, {\"Month\": \"2009-03-01T00:00:00\", \"Passenger_Trips\": 3615730.5}, {\"Month\": \"2009-04-01T00:00:00\", \"Passenger_Trips\": 3633601.8333333335}, {\"Month\": \"2009-05-01T00:00:00\", \"Passenger_Trips\": 3638688.0833333335}, {\"Month\": \"2009-06-01T00:00:00\", \"Passenger_Trips\": 3653896.4166666665}, {\"Month\": \"2009-07-01T00:00:00\", \"Passenger_Trips\": 3662200.6666666665}, {\"Month\": \"2009-08-01T00:00:00\", \"Passenger_Trips\": 3661988.0}, {\"Month\": \"2009-09-01T00:00:00\", \"Passenger_Trips\": 3689560.1666666665}, {\"Month\": \"2009-10-01T00:00:00\", \"Passenger_Trips\": 3714523.4166666665}, {\"Month\": \"2009-11-01T00:00:00\", \"Passenger_Trips\": 3736736.8333333335}, {\"Month\": \"2009-12-01T00:00:00\", \"Passenger_Trips\": 3755385.8333333335}, {\"Month\": \"2010-01-01T00:00:00\", \"Passenger_Trips\": 3785355.5833333335}, {\"Month\": \"2010-02-01T00:00:00\", \"Passenger_Trips\": 3813802.0}, {\"Month\": \"2010-03-01T00:00:00\", \"Passenger_Trips\": 3836134.0833333335}, {\"Month\": \"2010-04-01T00:00:00\", \"Passenger_Trips\": 3860364.3333333335}, {\"Month\": \"2010-05-01T00:00:00\", \"Passenger_Trips\": 3884821.0833333335}, {\"Month\": \"2010-06-01T00:00:00\", \"Passenger_Trips\": 3908335.1666666665}, {\"Month\": \"2010-07-01T00:00:00\", \"Passenger_Trips\": 3942526.3333333335}, {\"Month\": \"2010-08-01T00:00:00\", \"Passenger_Trips\": 3962911.5833333335}, {\"Month\": \"2010-09-01T00:00:00\", \"Passenger_Trips\": 3962075.5}, {\"Month\": \"2010-10-01T00:00:00\", \"Passenger_Trips\": 3968417.5833333335}, {\"Month\": \"2010-11-01T00:00:00\", \"Passenger_Trips\": 3975910.75}, {\"Month\": \"2010-12-01T00:00:00\", \"Passenger_Trips\": 3990712.5833333335}, {\"Month\": \"2011-01-01T00:00:00\", \"Passenger_Trips\": 3984528.0833333335}, {\"Month\": \"2011-02-01T00:00:00\", \"Passenger_Trips\": 3983362.5}, {\"Month\": \"2011-03-01T00:00:00\", \"Passenger_Trips\": 3981040.5833333335}, {\"Month\": \"2011-04-01T00:00:00\", \"Passenger_Trips\": 3971222.5}, {\"Month\": \"2011-05-01T00:00:00\", \"Passenger_Trips\": 3955529.9166666665}, {\"Month\": \"2011-06-01T00:00:00\", \"Passenger_Trips\": 3948560.0}, {\"Month\": \"2011-07-01T00:00:00\", \"Passenger_Trips\": 3935686.0}, {\"Month\": \"2011-08-01T00:00:00\", \"Passenger_Trips\": 3940415.8333333335}, {\"Month\": \"2011-09-01T00:00:00\", \"Passenger_Trips\": 3952896.5833333335}, {\"Month\": \"2011-10-01T00:00:00\", \"Passenger_Trips\": 3960741.5833333335}, {\"Month\": \"2011-11-01T00:00:00\", \"Passenger_Trips\": 3963526.1666666665}, {\"Month\": \"2011-12-01T00:00:00\", \"Passenger_Trips\": 3972894.9166666665}, {\"Month\": \"2012-01-01T00:00:00\", \"Passenger_Trips\": 3996175.75}, {\"Month\": \"2012-02-01T00:00:00\", \"Passenger_Trips\": 4016390.8333333335}, {\"Month\": \"2012-03-01T00:00:00\", \"Passenger_Trips\": 4039869.75}, {\"Month\": \"2012-04-01T00:00:00\", \"Passenger_Trips\": 4067582.9166666665}, {\"Month\": \"2012-05-01T00:00:00\", \"Passenger_Trips\": 4102447.5833333335}, {\"Month\": \"2012-06-01T00:00:00\", \"Passenger_Trips\": 4135981.0}, {\"Month\": \"2012-07-01T00:00:00\", \"Passenger_Trips\": 4158118.9166666665}, {\"Month\": \"2012-08-01T00:00:00\", \"Passenger_Trips\": 4175673.0}, {\"Month\": \"2012-09-01T00:00:00\", \"Passenger_Trips\": 4181978.25}, {\"Month\": \"2012-10-01T00:00:00\", \"Passenger_Trips\": 4192996.5833333335}, {\"Month\": \"2012-11-01T00:00:00\", \"Passenger_Trips\": 4210689.916666667}, {\"Month\": \"2012-12-01T00:00:00\", \"Passenger_Trips\": 4218221.75}, {\"Month\": \"2013-01-01T00:00:00\", \"Passenger_Trips\": 4229248.666666667}, {\"Month\": \"2013-02-01T00:00:00\", \"Passenger_Trips\": 4249660.583333333}, {\"Month\": \"2013-03-01T00:00:00\", \"Passenger_Trips\": 4261212.666666667}, {\"Month\": \"2013-04-01T00:00:00\", \"Passenger_Trips\": 4262826.916666667}, {\"Month\": \"2013-05-01T00:00:00\", \"Passenger_Trips\": 4277459.833333333}, {\"Month\": \"2013-06-01T00:00:00\", \"Passenger_Trips\": 4275632.666666667}, {\"Month\": \"2013-07-01T00:00:00\", \"Passenger_Trips\": 4293996.75}, {\"Month\": \"2013-08-01T00:00:00\", \"Passenger_Trips\": 4311738.083333333}, {\"Month\": \"2013-09-01T00:00:00\", \"Passenger_Trips\": 4321375.416666667}, {\"Month\": \"2013-10-01T00:00:00\", \"Passenger_Trips\": 4327966.0}, {\"Month\": \"2013-11-01T00:00:00\", \"Passenger_Trips\": 4336011.583333333}, {\"Month\": \"2013-12-01T00:00:00\", \"Passenger_Trips\": 4340855.0}, {\"Month\": \"2014-01-01T00:00:00\", \"Passenger_Trips\": 4342533.75}, {\"Month\": \"2014-02-01T00:00:00\", \"Passenger_Trips\": 4338614.083333333}, {\"Month\": \"2014-03-01T00:00:00\", \"Passenger_Trips\": 4334611.166666667}, {\"Month\": \"2014-04-01T00:00:00\", \"Passenger_Trips\": 4336499.5}, {\"Month\": \"2014-05-01T00:00:00\", \"Passenger_Trips\": 4340380.166666667}, {\"Month\": \"2014-06-01T00:00:00\", \"Passenger_Trips\": 4335039.166666667}, {\"Month\": \"2014-07-01T00:00:00\", \"Passenger_Trips\": 4329204.416666667}, {\"Month\": \"2014-08-01T00:00:00\", \"Passenger_Trips\": 4315546.25}, {\"Month\": \"2014-09-01T00:00:00\", \"Passenger_Trips\": 4313624.25}, {\"Month\": \"2014-10-01T00:00:00\", \"Passenger_Trips\": 4316557.0}, {\"Month\": \"2014-11-01T00:00:00\", \"Passenger_Trips\": 4315186.083333333}, {\"Month\": \"2014-12-01T00:00:00\", \"Passenger_Trips\": 4312992.833333333}, {\"Month\": \"2015-01-01T00:00:00\", \"Passenger_Trips\": 4312459.916666667}, {\"Month\": \"2015-02-01T00:00:00\", \"Passenger_Trips\": 4324275.083333333}, {\"Month\": \"2015-03-01T00:00:00\", \"Passenger_Trips\": 4325325.083333333}, {\"Month\": \"2015-04-01T00:00:00\", \"Passenger_Trips\": 4334454.333333333}, {\"Month\": \"2015-05-01T00:00:00\", \"Passenger_Trips\": 4334011.666666667}, {\"Month\": \"2015-06-01T00:00:00\", \"Passenger_Trips\": 4350611.75}, {\"Month\": \"2015-07-01T00:00:00\", \"Passenger_Trips\": 4366392.333333333}, {\"Month\": \"2015-08-01T00:00:00\", \"Passenger_Trips\": 4382492.583333333}, {\"Month\": \"2015-09-01T00:00:00\", \"Passenger_Trips\": 4405561.75}, {\"Month\": \"2015-10-01T00:00:00\", \"Passenger_Trips\": 4421432.416666667}, {\"Month\": \"2015-11-01T00:00:00\", \"Passenger_Trips\": 4430212.416666667}, {\"Month\": \"2015-12-01T00:00:00\", \"Passenger_Trips\": 4443418.166666667}, {\"Month\": \"2016-01-01T00:00:00\", \"Passenger_Trips\": 4456376.333333333}, {\"Month\": \"2016-02-01T00:00:00\", \"Passenger_Trips\": 4459882.916666667}, {\"Month\": \"2016-03-01T00:00:00\", \"Passenger_Trips\": 4466812.25}, {\"Month\": \"2016-04-01T00:00:00\", \"Passenger_Trips\": 4479297.916666667}, {\"Month\": \"2016-05-01T00:00:00\", \"Passenger_Trips\": 4480974.166666667}, {\"Month\": \"2016-06-01T00:00:00\", \"Passenger_Trips\": 4487913.0}, {\"Month\": \"2016-07-01T00:00:00\", \"Passenger_Trips\": 4492794.833333333}, {\"Month\": \"2016-08-01T00:00:00\", \"Passenger_Trips\": 4503167.583333333}, {\"Month\": \"2016-09-01T00:00:00\", \"Passenger_Trips\": 4493579.0}, {\"Month\": \"2016-10-01T00:00:00\", \"Passenger_Trips\": 4493982.5}, {\"Month\": \"2016-11-01T00:00:00\", \"Passenger_Trips\": 4500057.5}, {\"Month\": \"2016-12-01T00:00:00\", \"Passenger_Trips\": 4503700.833333333}, {\"Month\": \"2017-01-01T00:00:00\", \"Passenger_Trips\": 4508619.333333333}, {\"Month\": \"2017-02-01T00:00:00\", \"Passenger_Trips\": 4515292.166666667}, {\"Month\": \"2017-03-01T00:00:00\", \"Passenger_Trips\": 4520014.083333333}, {\"Month\": \"2017-04-01T00:00:00\", \"Passenger_Trips\": 4519916.416666667}, {\"Month\": \"2017-05-01T00:00:00\", \"Passenger_Trips\": 4533164.333333333}, {\"Month\": \"2017-06-01T00:00:00\", \"Passenger_Trips\": 4545264.833333333}, {\"Month\": \"2017-07-01T00:00:00\", \"Passenger_Trips\": 4552423.166666667}, {\"Month\": \"2017-08-01T00:00:00\", \"Passenger_Trips\": 4558790.333333333}, {\"Month\": \"2017-09-01T00:00:00\", \"Passenger_Trips\": 4571007.666666667}, {\"Month\": \"2017-10-01T00:00:00\", \"Passenger_Trips\": 4586212.416666667}, {\"Month\": \"2017-11-01T00:00:00\", \"Passenger_Trips\": 4596388.416666667}, {\"Month\": \"2017-12-01T00:00:00\", \"Passenger_Trips\": 4604905.833333333}, {\"Month\": \"2018-01-01T00:00:00\", \"Passenger_Trips\": 4607171.416666667}, {\"Month\": \"2018-02-01T00:00:00\", \"Passenger_Trips\": 4618007.5}, {\"Month\": \"2018-03-01T00:00:00\", \"Passenger_Trips\": 4633277.583333333}, {\"Month\": \"2018-04-01T00:00:00\", \"Passenger_Trips\": 4631077.0}, {\"Month\": \"2018-05-01T00:00:00\", \"Passenger_Trips\": 4634490.75}, {\"Month\": \"2018-06-01T00:00:00\", \"Passenger_Trips\": 4633004.916666667}, {\"Month\": \"2018-07-01T00:00:00\", \"Passenger_Trips\": 4623836.916666667}, {\"Month\": \"2018-08-01T00:00:00\", \"Passenger_Trips\": 4622392.333333333}, {\"Month\": \"2018-09-01T00:00:00\", \"Passenger_Trips\": 4619560.083333333}, {\"Month\": \"2018-10-01T00:00:00\", \"Passenger_Trips\": 4607483.5}, {\"Month\": \"2018-11-01T00:00:00\", \"Passenger_Trips\": 4610547.916666667}, {\"Month\": \"2018-12-01T00:00:00\", \"Passenger_Trips\": 4610584.75}, {\"Month\": \"2019-01-01T00:00:00\", \"Passenger_Trips\": 4607839.916666667}, {\"Month\": \"2019-02-01T00:00:00\", \"Passenger_Trips\": 4606472.166666667}, {\"Month\": \"2019-03-01T00:00:00\", \"Passenger_Trips\": 4606366.416666667}, {\"Month\": \"2019-04-01T00:00:00\", \"Passenger_Trips\": 4613948.75}, {\"Month\": \"2019-05-01T00:00:00\", \"Passenger_Trips\": 4624662.333333333}, {\"Month\": \"2019-06-01T00:00:00\", \"Passenger_Trips\": 4626478.25}, {\"Month\": \"2019-07-01T00:00:00\", \"Passenger_Trips\": 4634543.25}, {\"Month\": \"2019-08-01T00:00:00\", \"Passenger_Trips\": null}, {\"Month\": \"2019-09-01T00:00:00\", \"Passenger_Trips\": null}, {\"Month\": \"2019-10-01T00:00:00\", \"Passenger_Trips\": null}, {\"Month\": \"2019-11-01T00:00:00\", \"Passenger_Trips\": null}, {\"Month\": \"2019-12-01T00:00:00\", \"Passenger_Trips\": null}]}}, {\"mode\": \"vega-lite\"});\n",
       "</script>"
      ],
      "text/plain": [
       "alt.Chart(...)"
      ]
     },
     "execution_count": 71,
     "metadata": {},
     "output_type": "execute_result"
    }
   ],
   "source": [
    "alt.Chart(df) \\\n",
    "    .mark_line(color = 'green') \\\n",
    "    .encode(\n",
    "        x = 'Month:T',\n",
    "        y = 'Passenger_Trips:Q') \\\n",
    "    .properties(\n",
    "        width = 400,\n",
    "        height = 250)"
   ]
  },
  {
   "cell_type": "code",
   "execution_count": null,
   "metadata": {},
   "outputs": [],
   "source": []
  }
 ],
 "metadata": {
  "kernelspec": {
   "display_name": "Python 3",
   "language": "python",
   "name": "python3"
  },
  "language_info": {
   "codemirror_mode": {
    "name": "ipython",
    "version": 3
   },
   "file_extension": ".py",
   "mimetype": "text/x-python",
   "name": "python",
   "nbconvert_exporter": "python",
   "pygments_lexer": "ipython3",
   "version": "3.7.7"
  },
  "toc": {
   "base_numbering": 1,
   "nav_menu": {},
   "number_sections": true,
   "sideBar": true,
   "skip_h1_title": false,
   "title_cell": "Table of Contents",
   "title_sidebar": "Contents",
   "toc_cell": false,
   "toc_position": {},
   "toc_section_display": true,
   "toc_window_display": false
  }
 },
 "nbformat": 4,
 "nbformat_minor": 4
}
