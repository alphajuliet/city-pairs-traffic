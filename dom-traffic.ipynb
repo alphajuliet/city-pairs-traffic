{
 "cells": [
  {
   "cell_type": "markdown",
   "metadata": {},
   "source": [
    "# City Pairs - Domestic Traffic\n",
    "\n",
    "AndrewJ, 2016-06-12"
   ]
  },
  {
   "cell_type": "markdown",
   "metadata": {},
   "source": [
    "## Description\n",
    "\n",
    "Visualisation sandbox on some random data sets using Python3. In this case, it's Australian [monthly airport domestic traffic data](https://data.gov.au/dataset/domestic-airlines-top-routes-and-totals) via data.gov.au, dated 2016-05."
   ]
  },
  {
   "cell_type": "code",
   "execution_count": 124,
   "metadata": {
    "collapsed": false
   },
   "outputs": [],
   "source": [
    "%matplotlib inline\n",
    "\n",
    "import numpy as np\n",
    "import pandas as pd\n",
    "import datetime as dt\n",
    "from matplotlib.pyplot import *"
   ]
  },
  {
   "cell_type": "markdown",
   "metadata": {},
   "source": [
    "## Read and process the data"
   ]
  },
  {
   "cell_type": "code",
   "execution_count": 13,
   "metadata": {
    "collapsed": false
   },
   "outputs": [],
   "source": [
    "def read_traffic():\n",
    "    return pd.read_csv(\"data/DOMCityPairsWeb.csv\")"
   ]
  },
  {
   "cell_type": "code",
   "execution_count": 73,
   "metadata": {
    "collapsed": false
   },
   "outputs": [],
   "source": [
    "def transform_traffic(df):\n",
    "    df1 = df.assign(\n",
    "        Journey = df.City1 + \"-\" + df.City2, \n",
    "        Month = dt.datetime(1899, 12, 30) + df['Month'].map(dt.timedelta))\n",
    "    return df1"
   ]
  },
  {
   "cell_type": "code",
   "execution_count": 103,
   "metadata": {
    "collapsed": false
   },
   "outputs": [],
   "source": [
    "def by_journey(df, field):\n",
    "    df1 = df[field].groupby(df['Journey']).sum()\n",
    "    return df1"
   ]
  },
  {
   "cell_type": "markdown",
   "metadata": {},
   "source": [
    "## Run"
   ]
  },
  {
   "cell_type": "code",
   "execution_count": 74,
   "metadata": {
    "collapsed": false
   },
   "outputs": [],
   "source": [
    "dom = transform_traffic(read_traffic())"
   ]
  },
  {
   "cell_type": "code",
   "execution_count": 75,
   "metadata": {
    "collapsed": false
   },
   "outputs": [
    {
     "data": {
      "text/html": [
       "<div>\n",
       "<table border=\"1\" class=\"dataframe\">\n",
       "  <thead>\n",
       "    <tr style=\"text-align: right;\">\n",
       "      <th></th>\n",
       "      <th>City1</th>\n",
       "      <th>City2</th>\n",
       "      <th>Month</th>\n",
       "      <th>Passenger_Trips</th>\n",
       "      <th>Aircraft_Trips</th>\n",
       "      <th>Passenger_Load_Factor</th>\n",
       "      <th>Distance_GC_(km)</th>\n",
       "      <th>RPKs</th>\n",
       "      <th>ASKs</th>\n",
       "      <th>Seats</th>\n",
       "      <th>Year</th>\n",
       "      <th>Month_num</th>\n",
       "      <th>Journey</th>\n",
       "    </tr>\n",
       "  </thead>\n",
       "  <tbody>\n",
       "    <tr>\n",
       "      <th>0</th>\n",
       "      <td>ALBURY</td>\n",
       "      <td>SYDNEY</td>\n",
       "      <td>1984-01-01</td>\n",
       "      <td>11478</td>\n",
       "      <td>296</td>\n",
       "      <td>79.8</td>\n",
       "      <td>452</td>\n",
       "      <td>5188056</td>\n",
       "      <td>6501323.0</td>\n",
       "      <td>14383</td>\n",
       "      <td>1984</td>\n",
       "      <td>1</td>\n",
       "      <td>ALBURY-SYDNEY</td>\n",
       "    </tr>\n",
       "    <tr>\n",
       "      <th>1</th>\n",
       "      <td>ALBURY</td>\n",
       "      <td>SYDNEY</td>\n",
       "      <td>1984-02-01</td>\n",
       "      <td>9590</td>\n",
       "      <td>276</td>\n",
       "      <td>68.2</td>\n",
       "      <td>452</td>\n",
       "      <td>4334680</td>\n",
       "      <td>6355836.0</td>\n",
       "      <td>14062</td>\n",
       "      <td>1984</td>\n",
       "      <td>2</td>\n",
       "      <td>ALBURY-SYDNEY</td>\n",
       "    </tr>\n",
       "    <tr>\n",
       "      <th>2</th>\n",
       "      <td>ALBURY</td>\n",
       "      <td>SYDNEY</td>\n",
       "      <td>1984-03-01</td>\n",
       "      <td>10462</td>\n",
       "      <td>294</td>\n",
       "      <td>70.5</td>\n",
       "      <td>452</td>\n",
       "      <td>4728824</td>\n",
       "      <td>6707552.0</td>\n",
       "      <td>14840</td>\n",
       "      <td>1984</td>\n",
       "      <td>3</td>\n",
       "      <td>ALBURY-SYDNEY</td>\n",
       "    </tr>\n",
       "    <tr>\n",
       "      <th>3</th>\n",
       "      <td>ALBURY</td>\n",
       "      <td>SYDNEY</td>\n",
       "      <td>1984-04-01</td>\n",
       "      <td>9366</td>\n",
       "      <td>243</td>\n",
       "      <td>77.2</td>\n",
       "      <td>452</td>\n",
       "      <td>4233432</td>\n",
       "      <td>5483720.0</td>\n",
       "      <td>12132</td>\n",
       "      <td>1984</td>\n",
       "      <td>4</td>\n",
       "      <td>ALBURY-SYDNEY</td>\n",
       "    </tr>\n",
       "    <tr>\n",
       "      <th>4</th>\n",
       "      <td>ALBURY</td>\n",
       "      <td>SYDNEY</td>\n",
       "      <td>1984-05-01</td>\n",
       "      <td>10110</td>\n",
       "      <td>245</td>\n",
       "      <td>76.9</td>\n",
       "      <td>452</td>\n",
       "      <td>4569720</td>\n",
       "      <td>5942419.0</td>\n",
       "      <td>13147</td>\n",
       "      <td>1984</td>\n",
       "      <td>5</td>\n",
       "      <td>ALBURY-SYDNEY</td>\n",
       "    </tr>\n",
       "  </tbody>\n",
       "</table>\n",
       "</div>"
      ],
      "text/plain": [
       "    City1   City2      Month  Passenger_Trips  Aircraft_Trips  \\\n",
       "0  ALBURY  SYDNEY 1984-01-01            11478             296   \n",
       "1  ALBURY  SYDNEY 1984-02-01             9590             276   \n",
       "2  ALBURY  SYDNEY 1984-03-01            10462             294   \n",
       "3  ALBURY  SYDNEY 1984-04-01             9366             243   \n",
       "4  ALBURY  SYDNEY 1984-05-01            10110             245   \n",
       "\n",
       "   Passenger_Load_Factor  Distance_GC_(km)     RPKs       ASKs  Seats  Year  \\\n",
       "0                   79.8               452  5188056  6501323.0  14383  1984   \n",
       "1                   68.2               452  4334680  6355836.0  14062  1984   \n",
       "2                   70.5               452  4728824  6707552.0  14840  1984   \n",
       "3                   77.2               452  4233432  5483720.0  12132  1984   \n",
       "4                   76.9               452  4569720  5942419.0  13147  1984   \n",
       "\n",
       "   Month_num        Journey  \n",
       "0          1  ALBURY-SYDNEY  \n",
       "1          2  ALBURY-SYDNEY  \n",
       "2          3  ALBURY-SYDNEY  \n",
       "3          4  ALBURY-SYDNEY  \n",
       "4          5  ALBURY-SYDNEY  "
      ]
     },
     "execution_count": 75,
     "metadata": {},
     "output_type": "execute_result"
    }
   ],
   "source": [
    "dom.head(5)"
   ]
  },
  {
   "cell_type": "code",
   "execution_count": 76,
   "metadata": {
    "collapsed": false
   },
   "outputs": [
    {
     "data": {
      "text/plain": [
       "City1                            object\n",
       "City2                            object\n",
       "Month                    datetime64[ns]\n",
       "Passenger_Trips                   int64\n",
       "Aircraft_Trips                    int64\n",
       "Passenger_Load_Factor           float64\n",
       "Distance_GC_(km)                  int64\n",
       "RPKs                              int64\n",
       "ASKs                            float64\n",
       "Seats                             int64\n",
       "Year                              int64\n",
       "Month_num                         int64\n",
       "Journey                          object\n",
       "dtype: object"
      ]
     },
     "execution_count": 76,
     "metadata": {},
     "output_type": "execute_result"
    }
   ],
   "source": [
    "dom.dtypes"
   ]
  },
  {
   "cell_type": "code",
   "execution_count": null,
   "metadata": {
    "collapsed": true
   },
   "outputs": [],
   "source": []
  },
  {
   "cell_type": "markdown",
   "metadata": {},
   "source": [
    "## Analysis"
   ]
  },
  {
   "cell_type": "markdown",
   "metadata": {},
   "source": [
    "Top 20 sectors by total passengers"
   ]
  },
  {
   "cell_type": "code",
   "execution_count": 117,
   "metadata": {
    "collapsed": false
   },
   "outputs": [
    {
     "data": {
      "text/plain": [
       "Journey\n",
       "MELBOURNE-SYDNEY        434215.695090\n",
       "BRISBANE-SYDNEY         264164.968992\n",
       "BRISBANE-MELBOURNE      151939.793282\n",
       "ADELAIDE-MELBOURNE      121794.266150\n",
       "GOLD COAST-SYDNEY       121762.348837\n",
       "ADELAIDE-SYDNEY          94319.596899\n",
       "MELBOURNE-PERTH          90953.041344\n",
       "PERTH-SYDNEY             80588.563307\n",
       "MELBOURNE-GOLD COAST     70807.532468\n",
       "BRISBANE-CAIRNS          69417.198966\n",
       "Name: Passenger_Trips, dtype: float64"
      ]
     },
     "execution_count": 117,
     "metadata": {},
     "output_type": "execute_result"
    }
   ],
   "source": [
    "trips = dom['Passenger_Trips'] \\\n",
    "    .groupby(dom['Journey']) \\\n",
    "    .mean() \\\n",
    "    .sort_values(ascending = False)\n",
    "trips.head(10)"
   ]
  },
  {
   "cell_type": "code",
   "execution_count": 125,
   "metadata": {
    "collapsed": false
   },
   "outputs": [
    {
     "data": {
      "text/plain": [
       "<matplotlib.axes._subplots.AxesSubplot at 0x114e745c0>"
      ]
     },
     "execution_count": 125,
     "metadata": {},
     "output_type": "execute_result"
    },
    {
     "data": {
      "image/png": "[encoded data removed]",
      "text/plain": [
       "<matplotlib.figure.Figure at 0x112395c50>"
      ]
     },
     "metadata": {},
     "output_type": "display_data"
    }
   ],
   "source": [
    "trips.head(10).plot(kind = 'barh')"
   ]
  }
 ],
 "metadata": {
  "kernelspec": {
   "display_name": "Python 3",
   "language": "python",
   "name": "python3"
  },
  "language_info": {
   "codemirror_mode": {
    "name": "ipython",
    "version": 3
   },
   "file_extension": ".py",
   "mimetype": "text/x-python",
   "name": "python",
   "nbconvert_exporter": "python",
   "pygments_lexer": "ipython3",
   "version": "3.5.1"
  }
 },
 "nbformat": 4,
 "nbformat_minor": 0
}
